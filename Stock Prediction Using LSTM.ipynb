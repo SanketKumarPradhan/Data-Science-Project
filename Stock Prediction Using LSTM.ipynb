{
 "cells": [
  {
   "cell_type": "code",
   "execution_count": 1,
   "id": "9ce288ed",
   "metadata": {},
   "outputs": [],
   "source": [
    "import pandas as pd\n",
    "import tensorflow as tf"
   ]
  },
  {
   "cell_type": "code",
   "execution_count": 2,
   "id": "4df29b19",
   "metadata": {},
   "outputs": [
    {
     "data": {
      "text/html": [
       "<div>\n",
       "<style scoped>\n",
       "    .dataframe tbody tr th:only-of-type {\n",
       "        vertical-align: middle;\n",
       "    }\n",
       "\n",
       "    .dataframe tbody tr th {\n",
       "        vertical-align: top;\n",
       "    }\n",
       "\n",
       "    .dataframe thead th {\n",
       "        text-align: right;\n",
       "    }\n",
       "</style>\n",
       "<table border=\"1\" class=\"dataframe\">\n",
       "  <thead>\n",
       "    <tr style=\"text-align: right;\">\n",
       "      <th></th>\n",
       "      <th>Unnamed: 0</th>\n",
       "      <th>Date</th>\n",
       "      <th>Open</th>\n",
       "      <th>High</th>\n",
       "      <th>Low</th>\n",
       "      <th>Close</th>\n",
       "      <th>Adj Close</th>\n",
       "      <th>Volume</th>\n",
       "    </tr>\n",
       "  </thead>\n",
       "  <tbody>\n",
       "    <tr>\n",
       "      <th>0</th>\n",
       "      <td>0</td>\n",
       "      <td>2013/01/02</td>\n",
       "      <td>18.003504</td>\n",
       "      <td>18.193193</td>\n",
       "      <td>17.931683</td>\n",
       "      <td>18.099348</td>\n",
       "      <td>18.099348</td>\n",
       "      <td>101550348</td>\n",
       "    </tr>\n",
       "    <tr>\n",
       "      <th>1</th>\n",
       "      <td>1</td>\n",
       "      <td>2013/01/03</td>\n",
       "      <td>18.141392</td>\n",
       "      <td>18.316566</td>\n",
       "      <td>18.036036</td>\n",
       "      <td>18.109859</td>\n",
       "      <td>18.109859</td>\n",
       "      <td>92635272</td>\n",
       "    </tr>\n",
       "    <tr>\n",
       "      <th>2</th>\n",
       "      <td>2</td>\n",
       "      <td>2013/01/04</td>\n",
       "      <td>18.251753</td>\n",
       "      <td>18.555305</td>\n",
       "      <td>18.210211</td>\n",
       "      <td>18.467718</td>\n",
       "      <td>18.467718</td>\n",
       "      <td>110429460</td>\n",
       "    </tr>\n",
       "    <tr>\n",
       "      <th>3</th>\n",
       "      <td>3</td>\n",
       "      <td>2013/01/07</td>\n",
       "      <td>18.404655</td>\n",
       "      <td>18.503002</td>\n",
       "      <td>18.282784</td>\n",
       "      <td>18.387136</td>\n",
       "      <td>18.387136</td>\n",
       "      <td>66161772</td>\n",
       "    </tr>\n",
       "    <tr>\n",
       "      <th>4</th>\n",
       "      <td>4</td>\n",
       "      <td>2013/01/08</td>\n",
       "      <td>18.406906</td>\n",
       "      <td>18.425926</td>\n",
       "      <td>18.128880</td>\n",
       "      <td>18.350851</td>\n",
       "      <td>18.350851</td>\n",
       "      <td>66976956</td>\n",
       "    </tr>\n",
       "    <tr>\n",
       "      <th>...</th>\n",
       "      <td>...</td>\n",
       "      <td>...</td>\n",
       "      <td>...</td>\n",
       "      <td>...</td>\n",
       "      <td>...</td>\n",
       "      <td>...</td>\n",
       "      <td>...</td>\n",
       "      <td>...</td>\n",
       "    </tr>\n",
       "    <tr>\n",
       "      <th>2531</th>\n",
       "      <td>2531</td>\n",
       "      <td>2023/01/23</td>\n",
       "      <td>97.949997</td>\n",
       "      <td>100.040001</td>\n",
       "      <td>97.500000</td>\n",
       "      <td>99.790001</td>\n",
       "      <td>99.790001</td>\n",
       "      <td>40005100</td>\n",
       "    </tr>\n",
       "    <tr>\n",
       "      <th>2532</th>\n",
       "      <td>2532</td>\n",
       "      <td>2023/01/24</td>\n",
       "      <td>98.099998</td>\n",
       "      <td>99.610001</td>\n",
       "      <td>97.199997</td>\n",
       "      <td>97.699997</td>\n",
       "      <td>97.699997</td>\n",
       "      <td>33078500</td>\n",
       "    </tr>\n",
       "    <tr>\n",
       "      <th>2533</th>\n",
       "      <td>2533</td>\n",
       "      <td>2023/01/25</td>\n",
       "      <td>95.570000</td>\n",
       "      <td>96.160004</td>\n",
       "      <td>93.760002</td>\n",
       "      <td>95.220001</td>\n",
       "      <td>95.220001</td>\n",
       "      <td>42330000</td>\n",
       "    </tr>\n",
       "    <tr>\n",
       "      <th>2534</th>\n",
       "      <td>2534</td>\n",
       "      <td>2023/01/26</td>\n",
       "      <td>96.500000</td>\n",
       "      <td>97.570000</td>\n",
       "      <td>95.379997</td>\n",
       "      <td>97.519997</td>\n",
       "      <td>97.519997</td>\n",
       "      <td>30114000</td>\n",
       "    </tr>\n",
       "    <tr>\n",
       "      <th>2535</th>\n",
       "      <td>2535</td>\n",
       "      <td>2023/01/27</td>\n",
       "      <td>97.309998</td>\n",
       "      <td>100.320000</td>\n",
       "      <td>97.309998</td>\n",
       "      <td>99.370003</td>\n",
       "      <td>99.370003</td>\n",
       "      <td>33850200</td>\n",
       "    </tr>\n",
       "  </tbody>\n",
       "</table>\n",
       "<p>2536 rows × 8 columns</p>\n",
       "</div>"
      ],
      "text/plain": [
       "      Unnamed: 0        Date       Open        High        Low      Close  \\\n",
       "0              0  2013/01/02  18.003504   18.193193  17.931683  18.099348   \n",
       "1              1  2013/01/03  18.141392   18.316566  18.036036  18.109859   \n",
       "2              2  2013/01/04  18.251753   18.555305  18.210211  18.467718   \n",
       "3              3  2013/01/07  18.404655   18.503002  18.282784  18.387136   \n",
       "4              4  2013/01/08  18.406906   18.425926  18.128880  18.350851   \n",
       "...          ...         ...        ...         ...        ...        ...   \n",
       "2531        2531  2023/01/23  97.949997  100.040001  97.500000  99.790001   \n",
       "2532        2532  2023/01/24  98.099998   99.610001  97.199997  97.699997   \n",
       "2533        2533  2023/01/25  95.570000   96.160004  93.760002  95.220001   \n",
       "2534        2534  2023/01/26  96.500000   97.570000  95.379997  97.519997   \n",
       "2535        2535  2023/01/27  97.309998  100.320000  97.309998  99.370003   \n",
       "\n",
       "      Adj Close     Volume  \n",
       "0     18.099348  101550348  \n",
       "1     18.109859   92635272  \n",
       "2     18.467718  110429460  \n",
       "3     18.387136   66161772  \n",
       "4     18.350851   66976956  \n",
       "...         ...        ...  \n",
       "2531  99.790001   40005100  \n",
       "2532  97.699997   33078500  \n",
       "2533  95.220001   42330000  \n",
       "2534  97.519997   30114000  \n",
       "2535  99.370003   33850200  \n",
       "\n",
       "[2536 rows x 8 columns]"
      ]
     },
     "execution_count": 2,
     "metadata": {},
     "output_type": "execute_result"
    }
   ],
   "source": [
    "df=pd.read_csv(\"E:\\\\Program Stuff\\\\BharatIntern material\\\\GoogleStock Price Updated.csv\")\n",
    "df"
   ]
  },
  {
   "cell_type": "code",
   "execution_count": 3,
   "id": "9a67b015",
   "metadata": {},
   "outputs": [
    {
     "data": {
      "text/plain": [
       "(2536, 8)"
      ]
     },
     "execution_count": 3,
     "metadata": {},
     "output_type": "execute_result"
    }
   ],
   "source": [
    "df.shape"
   ]
  },
  {
   "cell_type": "code",
   "execution_count": 4,
   "id": "c14beae6",
   "metadata": {
    "scrolled": true
   },
   "outputs": [
    {
     "data": {
      "text/plain": [
       "0          0\n",
       "1          1\n",
       "2          2\n",
       "3          3\n",
       "4          4\n",
       "        ... \n",
       "2531    2531\n",
       "2532    2532\n",
       "2533    2533\n",
       "2534    2534\n",
       "2535    2535\n",
       "Name: Unnamed: 0, Length: 2536, dtype: int64"
      ]
     },
     "execution_count": 4,
     "metadata": {},
     "output_type": "execute_result"
    }
   ],
   "source": [
    "df.pop(\"Unnamed: 0\")"
   ]
  },
  {
   "cell_type": "code",
   "execution_count": 5,
   "id": "a6bc848d",
   "metadata": {},
   "outputs": [
    {
     "data": {
      "text/plain": [
       "(2536, 7)"
      ]
     },
     "execution_count": 5,
     "metadata": {},
     "output_type": "execute_result"
    }
   ],
   "source": [
    "df.shape"
   ]
  },
  {
   "cell_type": "code",
   "execution_count": 6,
   "id": "12ef5dcf",
   "metadata": {},
   "outputs": [
    {
     "data": {
      "text/html": [
       "<div>\n",
       "<style scoped>\n",
       "    .dataframe tbody tr th:only-of-type {\n",
       "        vertical-align: middle;\n",
       "    }\n",
       "\n",
       "    .dataframe tbody tr th {\n",
       "        vertical-align: top;\n",
       "    }\n",
       "\n",
       "    .dataframe thead th {\n",
       "        text-align: right;\n",
       "    }\n",
       "</style>\n",
       "<table border=\"1\" class=\"dataframe\">\n",
       "  <thead>\n",
       "    <tr style=\"text-align: right;\">\n",
       "      <th></th>\n",
       "      <th>Date</th>\n",
       "      <th>Open</th>\n",
       "      <th>High</th>\n",
       "      <th>Low</th>\n",
       "      <th>Close</th>\n",
       "      <th>Adj Close</th>\n",
       "      <th>Volume</th>\n",
       "    </tr>\n",
       "  </thead>\n",
       "  <tbody>\n",
       "    <tr>\n",
       "      <th>0</th>\n",
       "      <td>2013/01/02</td>\n",
       "      <td>18.003504</td>\n",
       "      <td>18.193193</td>\n",
       "      <td>17.931683</td>\n",
       "      <td>18.099348</td>\n",
       "      <td>18.099348</td>\n",
       "      <td>101550348</td>\n",
       "    </tr>\n",
       "    <tr>\n",
       "      <th>1</th>\n",
       "      <td>2013/01/03</td>\n",
       "      <td>18.141392</td>\n",
       "      <td>18.316566</td>\n",
       "      <td>18.036036</td>\n",
       "      <td>18.109859</td>\n",
       "      <td>18.109859</td>\n",
       "      <td>92635272</td>\n",
       "    </tr>\n",
       "    <tr>\n",
       "      <th>2</th>\n",
       "      <td>2013/01/04</td>\n",
       "      <td>18.251753</td>\n",
       "      <td>18.555305</td>\n",
       "      <td>18.210211</td>\n",
       "      <td>18.467718</td>\n",
       "      <td>18.467718</td>\n",
       "      <td>110429460</td>\n",
       "    </tr>\n",
       "    <tr>\n",
       "      <th>3</th>\n",
       "      <td>2013/01/07</td>\n",
       "      <td>18.404655</td>\n",
       "      <td>18.503002</td>\n",
       "      <td>18.282784</td>\n",
       "      <td>18.387136</td>\n",
       "      <td>18.387136</td>\n",
       "      <td>66161772</td>\n",
       "    </tr>\n",
       "    <tr>\n",
       "      <th>4</th>\n",
       "      <td>2013/01/08</td>\n",
       "      <td>18.406906</td>\n",
       "      <td>18.425926</td>\n",
       "      <td>18.128880</td>\n",
       "      <td>18.350851</td>\n",
       "      <td>18.350851</td>\n",
       "      <td>66976956</td>\n",
       "    </tr>\n",
       "  </tbody>\n",
       "</table>\n",
       "</div>"
      ],
      "text/plain": [
       "         Date       Open       High        Low      Close  Adj Close  \\\n",
       "0  2013/01/02  18.003504  18.193193  17.931683  18.099348  18.099348   \n",
       "1  2013/01/03  18.141392  18.316566  18.036036  18.109859  18.109859   \n",
       "2  2013/01/04  18.251753  18.555305  18.210211  18.467718  18.467718   \n",
       "3  2013/01/07  18.404655  18.503002  18.282784  18.387136  18.387136   \n",
       "4  2013/01/08  18.406906  18.425926  18.128880  18.350851  18.350851   \n",
       "\n",
       "      Volume  \n",
       "0  101550348  \n",
       "1   92635272  \n",
       "2  110429460  \n",
       "3   66161772  \n",
       "4   66976956  "
      ]
     },
     "execution_count": 6,
     "metadata": {},
     "output_type": "execute_result"
    }
   ],
   "source": [
    "df.head()"
   ]
  },
  {
   "cell_type": "code",
   "execution_count": null,
   "id": "f69325c1",
   "metadata": {},
   "outputs": [],
   "source": [
    "df.tail()"
   ]
  },
  {
   "cell_type": "code",
   "execution_count": null,
   "id": "d548397a",
   "metadata": {},
   "outputs": [],
   "source": [
    "# For Close"
   ]
  },
  {
   "cell_type": "code",
   "execution_count": 7,
   "id": "8e30a8f9",
   "metadata": {},
   "outputs": [
    {
     "data": {
      "text/plain": [
       "0       18.099348\n",
       "1       18.109859\n",
       "2       18.467718\n",
       "3       18.387136\n",
       "4       18.350851\n",
       "          ...    \n",
       "2531    99.790001\n",
       "2532    97.699997\n",
       "2533    95.220001\n",
       "2534    97.519997\n",
       "2535    99.370003\n",
       "Name: Close, Length: 2536, dtype: float64"
      ]
     },
     "execution_count": 7,
     "metadata": {},
     "output_type": "execute_result"
    }
   ],
   "source": [
    "df1=df.reset_index()['Close']\n",
    "df1"
   ]
  },
  {
   "cell_type": "code",
   "execution_count": 8,
   "id": "7d97b441",
   "metadata": {},
   "outputs": [
    {
     "data": {
      "text/plain": [
       "(2536,)"
      ]
     },
     "execution_count": 8,
     "metadata": {},
     "output_type": "execute_result"
    }
   ],
   "source": [
    "df1.shape"
   ]
  },
  {
   "cell_type": "code",
   "execution_count": 9,
   "id": "ed747272",
   "metadata": {},
   "outputs": [
    {
     "data": {
      "text/plain": [
       "0    18.099348\n",
       "1    18.109859\n",
       "2    18.467718\n",
       "3    18.387136\n",
       "4    18.350851\n",
       "Name: Close, dtype: float64"
      ]
     },
     "execution_count": 9,
     "metadata": {},
     "output_type": "execute_result"
    }
   ],
   "source": [
    "df1.head()"
   ]
  },
  {
   "cell_type": "code",
   "execution_count": 10,
   "id": "04ea19df",
   "metadata": {},
   "outputs": [
    {
     "data": {
      "text/plain": [
       "[<matplotlib.lines.Line2D at 0x177a7b85700>]"
      ]
     },
     "execution_count": 10,
     "metadata": {},
     "output_type": "execute_result"
    },
    {
     "data": {
      "image/png": "[encoded data removed]",
      "text/plain": [
       "<Figure size 432x288 with 1 Axes>"
      ]
     },
     "metadata": {
      "needs_background": "light"
     },
     "output_type": "display_data"
    }
   ],
   "source": [
    "import matplotlib.pyplot as plt\n",
    "plt.plot(df1)"
   ]
  },
  {
   "cell_type": "code",
   "execution_count": null,
   "id": "5e954ad9",
   "metadata": {},
   "outputs": [],
   "source": [
    "# LSTM are sensetive to the scale of the data, so here i have used MinMaxScaler"
   ]
  },
  {
   "cell_type": "code",
   "execution_count": 11,
   "id": "a70109b2",
   "metadata": {},
   "outputs": [
    {
     "data": {
      "text/plain": [
       "0       18.099348\n",
       "1       18.109859\n",
       "2       18.467718\n",
       "3       18.387136\n",
       "4       18.350851\n",
       "          ...    \n",
       "2531    99.790001\n",
       "2532    97.699997\n",
       "2533    95.220001\n",
       "2534    97.519997\n",
       "2535    99.370003\n",
       "Name: Close, Length: 2536, dtype: float64"
      ]
     },
     "execution_count": 11,
     "metadata": {},
     "output_type": "execute_result"
    }
   ],
   "source": [
    "import numpy as np\n",
    "df1"
   ]
  },
  {
   "cell_type": "code",
   "execution_count": 12,
   "id": "528aa09a",
   "metadata": {},
   "outputs": [],
   "source": [
    "from sklearn.preprocessing import MinMaxScaler\n",
    "ms=MinMaxScaler(feature_range=(0,1))\n",
    "df1=ms.fit_transform(np.array(df1).reshape(-1,1))"
   ]
  },
  {
   "cell_type": "code",
   "execution_count": 13,
   "id": "7e135acc",
   "metadata": {},
   "outputs": [
    {
     "data": {
      "text/plain": [
       "array([[0.00385643],\n",
       "       [0.00393591],\n",
       "       [0.00664186],\n",
       "       ...,\n",
       "       [0.58700306],\n",
       "       [0.60439444],\n",
       "       [0.61838323]])"
      ]
     },
     "execution_count": 13,
     "metadata": {},
     "output_type": "execute_result"
    }
   ],
   "source": [
    "df1"
   ]
  },
  {
   "cell_type": "code",
   "execution_count": 14,
   "id": "30be57b8",
   "metadata": {},
   "outputs": [],
   "source": [
    "# Train Test split is done using cross validation or random seed\n",
    "\n",
    "training_size=int(len(df1)*0.65)\n",
    "test_size=len(df1)-training_size\n",
    "train_data,test_data=df1[0:training_size,:],df1[training_size:len(df1),:1]"
   ]
  },
  {
   "cell_type": "code",
   "execution_count": 15,
   "id": "7b4929c0",
   "metadata": {},
   "outputs": [
    {
     "data": {
      "text/plain": [
       "(1648, 888)"
      ]
     },
     "execution_count": 15,
     "metadata": {},
     "output_type": "execute_result"
    }
   ],
   "source": [
    "training_size,test_size"
   ]
  },
  {
   "cell_type": "code",
   "execution_count": 16,
   "id": "cd77dc91",
   "metadata": {},
   "outputs": [],
   "source": [
    "# Pre processing to check time steps\n",
    "\n",
    "import numpy\n",
    "\n",
    "# Convert an array of values into a dataset matrix\n",
    "\n",
    "def create_dataset(dataset, time_step=1):\n",
    "    dataX,dataY = [],[]\n",
    "    for i in range (len(dataset)-time_step-1):\n",
    "        a=dataset[i:(i+time_step),0]           # i=0,  0,1,2,3,.......\n",
    "        dataX.append(a)\n",
    "        dataY.append(dataset[i+time_step,0])\n",
    "    return numpy.array(dataX),numpy.array(dataY)"
   ]
  },
  {
   "cell_type": "code",
   "execution_count": 17,
   "id": "ce5f8237",
   "metadata": {},
   "outputs": [],
   "source": [
    "# Reshape into X=t,t+1,t+2,t+3 and Y=t+4\n",
    "\n",
    "time_step=100\n",
    "X_train,Y_train=create_dataset(train_data,time_step)\n",
    "X_test,Y_test=create_dataset(test_data,time_step)"
   ]
  },
  {
   "cell_type": "code",
   "execution_count": 21,
   "id": "7d4859e2",
   "metadata": {},
   "outputs": [
    {
     "name": "stdout",
     "output_type": "stream",
     "text": [
      "(1547, 100)\n",
      "(1547,)\n"
     ]
    },
    {
     "data": {
      "text/plain": [
       "(None, None)"
      ]
     },
     "execution_count": 21,
     "metadata": {},
     "output_type": "execute_result"
    }
   ],
   "source": [
    "print(X_train.shape),print(Y_train.shape)"
   ]
  },
  {
   "cell_type": "code",
   "execution_count": 22,
   "id": "3d97ef4b",
   "metadata": {},
   "outputs": [
    {
     "name": "stdout",
     "output_type": "stream",
     "text": [
      "(787, 100)\n",
      "(787,)\n"
     ]
    },
    {
     "data": {
      "text/plain": [
       "(None, None)"
      ]
     },
     "execution_count": 22,
     "metadata": {},
     "output_type": "execute_result"
    }
   ],
   "source": [
    "print(X_test.shape),print(Y_test.shape)"
   ]
  },
  {
   "cell_type": "code",
   "execution_count": 23,
   "id": "c116b2e7",
   "metadata": {},
   "outputs": [],
   "source": [
    "# Reshape input to be [samples, time steps, features] which is required for LSTM\n",
    "\n",
    "X_train=X_train.reshape(X_train.shape[0],X_train.shape[1],1)\n",
    "X_test=X_test.reshape(X_test.shape[0],X_test.shape[1],1)"
   ]
  },
  {
   "cell_type": "code",
   "execution_count": 24,
   "id": "66666db3",
   "metadata": {},
   "outputs": [],
   "source": [
    "# Create the Stacked LSTM Model\n",
    "\n",
    "from tensorflow.keras.models import Sequential\n",
    "from tensorflow.keras.layers import Dense\n",
    "from tensorflow.keras.layers import LSTM"
   ]
  },
  {
   "cell_type": "code",
   "execution_count": 25,
   "id": "0e35e27b",
   "metadata": {},
   "outputs": [],
   "source": [
    "model=Sequential()\n",
    "model.add(LSTM(50,return_sequences=True,input_shape=(100,1)))\n",
    "model.add(LSTM(50,return_sequences=True))\n",
    "model.add(LSTM(50))\n",
    "model.add(Dense(1))\n",
    "model.compile(loss='mean_squared_error',optimizer='adam')"
   ]
  },
  {
   "cell_type": "code",
   "execution_count": 26,
   "id": "80144dd4",
   "metadata": {},
   "outputs": [
    {
     "name": "stdout",
     "output_type": "stream",
     "text": [
      "Model: \"sequential\"\n",
      "_________________________________________________________________\n",
      " Layer (type)                Output Shape              Param #   \n",
      "=================================================================\n",
      " lstm (LSTM)                 (None, 100, 50)           10400     \n",
      "                                                                 \n",
      " lstm_1 (LSTM)               (None, 100, 50)           20200     \n",
      "                                                                 \n",
      " lstm_2 (LSTM)               (None, 50)                20200     \n",
      "                                                                 \n",
      " dense (Dense)               (None, 1)                 51        \n",
      "                                                                 \n",
      "=================================================================\n",
      "Total params: 50,851\n",
      "Trainable params: 50,851\n",
      "Non-trainable params: 0\n",
      "_________________________________________________________________\n"
     ]
    }
   ],
   "source": [
    "model.summary()"
   ]
  },
  {
   "cell_type": "code",
   "execution_count": 27,
   "id": "e1133851",
   "metadata": {},
   "outputs": [
    {
     "name": "stdout",
     "output_type": "stream",
     "text": [
      "Epoch 1/100\n",
      "25/25 [==============================] - 10s 196ms/step - loss: 0.0063 - val_loss: 0.0088\n",
      "Epoch 2/100\n",
      "25/25 [==============================] - 4s 154ms/step - loss: 3.8100e-04 - val_loss: 0.0031\n",
      "Epoch 3/100\n",
      "25/25 [==============================] - 4s 147ms/step - loss: 1.7701e-04 - val_loss: 0.0020\n",
      "Epoch 4/100\n",
      "25/25 [==============================] - 4s 177ms/step - loss: 1.5137e-04 - val_loss: 0.0021\n",
      "Epoch 5/100\n",
      "25/25 [==============================] - 4s 162ms/step - loss: 1.5641e-04 - val_loss: 0.0018\n",
      "Epoch 6/100\n",
      "25/25 [==============================] - 4s 149ms/step - loss: 1.6126e-04 - val_loss: 0.0037\n",
      "Epoch 7/100\n",
      "25/25 [==============================] - 4s 149ms/step - loss: 1.4567e-04 - val_loss: 0.0040\n",
      "Epoch 8/100\n",
      "25/25 [==============================] - 4s 156ms/step - loss: 1.4212e-04 - val_loss: 0.0034\n",
      "Epoch 9/100\n",
      "25/25 [==============================] - 4s 159ms/step - loss: 1.3992e-04 - val_loss: 0.0036\n",
      "Epoch 10/100\n",
      "25/25 [==============================] - 4s 148ms/step - loss: 1.3972e-04 - val_loss: 0.0043\n",
      "Epoch 11/100\n",
      "25/25 [==============================] - 4s 149ms/step - loss: 1.3464e-04 - val_loss: 0.0039\n",
      "Epoch 12/100\n",
      "25/25 [==============================] - 4s 149ms/step - loss: 1.3311e-04 - val_loss: 0.0041\n",
      "Epoch 13/100\n",
      "25/25 [==============================] - 4s 155ms/step - loss: 1.3281e-04 - val_loss: 0.0035\n",
      "Epoch 14/100\n",
      "25/25 [==============================] - 4s 144ms/step - loss: 1.3948e-04 - val_loss: 0.0050\n",
      "Epoch 15/100\n",
      "25/25 [==============================] - 4s 146ms/step - loss: 1.3123e-04 - val_loss: 0.0046\n",
      "Epoch 16/100\n",
      "25/25 [==============================] - 4s 141ms/step - loss: 1.3212e-04 - val_loss: 0.0061\n",
      "Epoch 17/100\n",
      "25/25 [==============================] - 3s 140ms/step - loss: 1.3232e-04 - val_loss: 0.0070\n",
      "Epoch 18/100\n",
      "25/25 [==============================] - 4s 144ms/step - loss: 1.3166e-04 - val_loss: 0.0053\n",
      "Epoch 19/100\n",
      "25/25 [==============================] - 4s 143ms/step - loss: 1.1965e-04 - val_loss: 0.0048\n",
      "Epoch 20/100\n",
      "25/25 [==============================] - 4s 144ms/step - loss: 1.2490e-04 - val_loss: 0.0072\n",
      "Epoch 21/100\n",
      "25/25 [==============================] - 4s 142ms/step - loss: 1.1781e-04 - val_loss: 0.0052\n",
      "Epoch 22/100\n",
      "25/25 [==============================] - 4s 158ms/step - loss: 1.1613e-04 - val_loss: 0.0045\n",
      "Epoch 23/100\n",
      "25/25 [==============================] - 4s 151ms/step - loss: 1.2824e-04 - val_loss: 0.0056\n",
      "Epoch 24/100\n",
      "25/25 [==============================] - 4s 145ms/step - loss: 1.1914e-04 - val_loss: 0.0052\n",
      "Epoch 25/100\n",
      "25/25 [==============================] - 4s 155ms/step - loss: 1.1640e-04 - val_loss: 0.0053\n",
      "Epoch 26/100\n",
      "25/25 [==============================] - 4s 152ms/step - loss: 1.1038e-04 - val_loss: 0.0068\n",
      "Epoch 27/100\n",
      "25/25 [==============================] - 4s 156ms/step - loss: 1.1901e-04 - val_loss: 0.0041\n",
      "Epoch 28/100\n",
      "25/25 [==============================] - 4s 151ms/step - loss: 1.2104e-04 - val_loss: 0.0079\n",
      "Epoch 29/100\n",
      "25/25 [==============================] - 4s 150ms/step - loss: 1.1737e-04 - val_loss: 0.0078\n",
      "Epoch 30/100\n",
      "25/25 [==============================] - 4s 150ms/step - loss: 1.3986e-04 - val_loss: 0.0035\n",
      "Epoch 31/100\n",
      "25/25 [==============================] - 4s 154ms/step - loss: 1.2162e-04 - val_loss: 0.0041\n",
      "Epoch 32/100\n",
      "25/25 [==============================] - 4s 155ms/step - loss: 1.1350e-04 - val_loss: 0.0044\n",
      "Epoch 33/100\n",
      "25/25 [==============================] - 4s 157ms/step - loss: 1.0680e-04 - val_loss: 0.0027\n",
      "Epoch 34/100\n",
      "25/25 [==============================] - 4s 152ms/step - loss: 1.1636e-04 - val_loss: 0.0036\n",
      "Epoch 35/100\n",
      "25/25 [==============================] - 4s 154ms/step - loss: 1.1119e-04 - val_loss: 0.0043\n",
      "Epoch 36/100\n",
      "25/25 [==============================] - 4s 158ms/step - loss: 1.0133e-04 - val_loss: 0.0051\n",
      "Epoch 37/100\n",
      "25/25 [==============================] - 4s 152ms/step - loss: 9.8594e-05 - val_loss: 0.0059\n",
      "Epoch 38/100\n",
      "25/25 [==============================] - 4s 149ms/step - loss: 1.0547e-04 - val_loss: 0.0045\n",
      "Epoch 39/100\n",
      "25/25 [==============================] - 4s 151ms/step - loss: 1.0647e-04 - val_loss: 0.0065\n",
      "Epoch 40/100\n",
      "25/25 [==============================] - 4s 150ms/step - loss: 1.0601e-04 - val_loss: 0.0037\n",
      "Epoch 41/100\n",
      "25/25 [==============================] - 4s 148ms/step - loss: 1.0576e-04 - val_loss: 0.0041\n",
      "Epoch 42/100\n",
      "25/25 [==============================] - 4s 163ms/step - loss: 1.1333e-04 - val_loss: 0.0052\n",
      "Epoch 43/100\n",
      "25/25 [==============================] - 4s 157ms/step - loss: 9.2457e-05 - val_loss: 0.0041\n",
      "Epoch 44/100\n",
      "25/25 [==============================] - 4s 156ms/step - loss: 9.7363e-05 - val_loss: 0.0073\n",
      "Epoch 45/100\n",
      "25/25 [==============================] - 4s 164ms/step - loss: 1.0049e-04 - val_loss: 0.0035\n",
      "Epoch 46/100\n",
      "25/25 [==============================] - 4s 158ms/step - loss: 9.0883e-05 - val_loss: 0.0056\n",
      "Epoch 47/100\n",
      "25/25 [==============================] - 4s 161ms/step - loss: 1.1028e-04 - val_loss: 0.0019\n",
      "Epoch 48/100\n",
      "25/25 [==============================] - 4s 164ms/step - loss: 1.0053e-04 - val_loss: 0.0036\n",
      "Epoch 49/100\n",
      "25/25 [==============================] - 4s 157ms/step - loss: 8.7926e-05 - val_loss: 0.0040\n",
      "Epoch 50/100\n",
      "25/25 [==============================] - 4s 158ms/step - loss: 9.0929e-05 - val_loss: 0.0029\n",
      "Epoch 51/100\n",
      "25/25 [==============================] - 4s 160ms/step - loss: 1.0132e-04 - val_loss: 0.0035\n",
      "Epoch 52/100\n",
      "25/25 [==============================] - 4s 157ms/step - loss: 9.2050e-05 - val_loss: 0.0039\n",
      "Epoch 53/100\n",
      "25/25 [==============================] - 4s 154ms/step - loss: 8.9326e-05 - val_loss: 0.0046\n",
      "Epoch 54/100\n",
      "25/25 [==============================] - 4s 156ms/step - loss: 1.0452e-04 - val_loss: 0.0023\n",
      "Epoch 55/100\n",
      "25/25 [==============================] - 4s 167ms/step - loss: 8.8050e-05 - val_loss: 0.0044\n",
      "Epoch 56/100\n",
      "25/25 [==============================] - 4s 160ms/step - loss: 8.5220e-05 - val_loss: 0.0043\n",
      "Epoch 57/100\n",
      "25/25 [==============================] - 4s 153ms/step - loss: 8.6782e-05 - val_loss: 0.0049\n",
      "Epoch 58/100\n",
      "25/25 [==============================] - 4s 154ms/step - loss: 8.9420e-05 - val_loss: 0.0034\n",
      "Epoch 59/100\n",
      "25/25 [==============================] - 4s 151ms/step - loss: 8.9462e-05 - val_loss: 0.0011\n",
      "Epoch 60/100\n",
      "25/25 [==============================] - 4s 150ms/step - loss: 1.0240e-04 - val_loss: 0.0033\n",
      "Epoch 61/100\n",
      "25/25 [==============================] - 4s 154ms/step - loss: 9.1408e-05 - val_loss: 0.0051\n",
      "Epoch 62/100\n",
      "25/25 [==============================] - 4s 152ms/step - loss: 8.1731e-05 - val_loss: 0.0024\n",
      "Epoch 63/100\n",
      "25/25 [==============================] - 4s 153ms/step - loss: 7.5099e-05 - val_loss: 0.0030\n",
      "Epoch 64/100\n",
      "25/25 [==============================] - 4s 153ms/step - loss: 7.9586e-05 - val_loss: 0.0027\n",
      "Epoch 65/100\n",
      "25/25 [==============================] - 4s 151ms/step - loss: 7.4832e-05 - val_loss: 0.0034\n",
      "Epoch 66/100\n",
      "25/25 [==============================] - 4s 149ms/step - loss: 7.2443e-05 - val_loss: 0.0032\n",
      "Epoch 67/100\n",
      "25/25 [==============================] - 4s 150ms/step - loss: 7.1384e-05 - val_loss: 0.0026\n",
      "Epoch 68/100\n",
      "25/25 [==============================] - 4s 149ms/step - loss: 7.5349e-05 - val_loss: 0.0046\n",
      "Epoch 69/100\n",
      "25/25 [==============================] - 4s 153ms/step - loss: 8.0469e-05 - val_loss: 0.0023\n",
      "Epoch 70/100\n",
      "25/25 [==============================] - 4s 150ms/step - loss: 7.0486e-05 - val_loss: 0.0030\n",
      "Epoch 71/100\n",
      "25/25 [==============================] - 4s 151ms/step - loss: 7.3742e-05 - val_loss: 0.0036\n",
      "Epoch 72/100\n",
      "25/25 [==============================] - 4s 150ms/step - loss: 6.6426e-05 - val_loss: 0.0021\n",
      "Epoch 73/100\n",
      "25/25 [==============================] - 4s 150ms/step - loss: 6.5812e-05 - val_loss: 0.0030\n",
      "Epoch 74/100\n",
      "25/25 [==============================] - 4s 154ms/step - loss: 7.2259e-05 - val_loss: 0.0024\n",
      "Epoch 75/100\n",
      "25/25 [==============================] - 4s 151ms/step - loss: 6.2577e-05 - val_loss: 0.0017\n",
      "Epoch 76/100\n",
      "25/25 [==============================] - 4s 152ms/step - loss: 6.6851e-05 - val_loss: 0.0022\n",
      "Epoch 77/100\n",
      "25/25 [==============================] - 4s 151ms/step - loss: 6.4438e-05 - val_loss: 0.0029\n",
      "Epoch 78/100\n"
     ]
    },
    {
     "name": "stdout",
     "output_type": "stream",
     "text": [
      "25/25 [==============================] - 4s 152ms/step - loss: 5.7445e-05 - val_loss: 0.0035\n",
      "Epoch 79/100\n",
      "25/25 [==============================] - 4s 153ms/step - loss: 6.6982e-05 - val_loss: 0.0022\n",
      "Epoch 80/100\n",
      "25/25 [==============================] - 4s 150ms/step - loss: 6.4293e-05 - val_loss: 0.0014\n",
      "Epoch 81/100\n",
      "25/25 [==============================] - 4s 150ms/step - loss: 5.7560e-05 - val_loss: 0.0031\n",
      "Epoch 82/100\n",
      "25/25 [==============================] - 4s 152ms/step - loss: 5.6653e-05 - val_loss: 0.0010\n",
      "Epoch 83/100\n",
      "25/25 [==============================] - 4s 150ms/step - loss: 6.4904e-05 - val_loss: 0.0033\n",
      "Epoch 84/100\n",
      "25/25 [==============================] - 4s 151ms/step - loss: 6.1986e-05 - val_loss: 0.0021\n",
      "Epoch 85/100\n",
      "25/25 [==============================] - 4s 149ms/step - loss: 5.7301e-05 - val_loss: 0.0019\n",
      "Epoch 86/100\n",
      "25/25 [==============================] - 4s 148ms/step - loss: 5.0480e-05 - val_loss: 0.0023\n",
      "Epoch 87/100\n",
      "25/25 [==============================] - 4s 152ms/step - loss: 4.8515e-05 - val_loss: 0.0016\n",
      "Epoch 88/100\n",
      "25/25 [==============================] - 4s 151ms/step - loss: 4.8987e-05 - val_loss: 0.0017\n",
      "Epoch 89/100\n",
      "25/25 [==============================] - 4s 151ms/step - loss: 4.7395e-05 - val_loss: 0.0018\n",
      "Epoch 90/100\n",
      "25/25 [==============================] - 4s 149ms/step - loss: 6.2183e-05 - val_loss: 0.0037\n",
      "Epoch 91/100\n",
      "25/25 [==============================] - 4s 150ms/step - loss: 5.4984e-05 - val_loss: 0.0027\n",
      "Epoch 92/100\n",
      "25/25 [==============================] - 4s 150ms/step - loss: 4.6539e-05 - val_loss: 0.0025\n",
      "Epoch 93/100\n",
      "25/25 [==============================] - 4s 151ms/step - loss: 4.7902e-05 - val_loss: 0.0023\n",
      "Epoch 94/100\n",
      "25/25 [==============================] - 4s 153ms/step - loss: 4.3940e-05 - val_loss: 0.0017\n",
      "Epoch 95/100\n",
      "25/25 [==============================] - 4s 151ms/step - loss: 4.2723e-05 - val_loss: 4.7154e-04\n",
      "Epoch 96/100\n",
      "25/25 [==============================] - 4s 150ms/step - loss: 6.3436e-05 - val_loss: 8.8687e-04\n",
      "Epoch 97/100\n",
      "25/25 [==============================] - 4s 151ms/step - loss: 5.7898e-05 - val_loss: 0.0016\n",
      "Epoch 98/100\n",
      "25/25 [==============================] - 4s 151ms/step - loss: 4.1406e-05 - val_loss: 0.0018\n",
      "Epoch 99/100\n",
      "25/25 [==============================] - 4s 156ms/step - loss: 4.4343e-05 - val_loss: 0.0028\n",
      "Epoch 100/100\n",
      "25/25 [==============================] - 4s 150ms/step - loss: 4.6753e-05 - val_loss: 8.6310e-04\n"
     ]
    },
    {
     "data": {
      "text/plain": [
       "<keras.callbacks.History at 0x177accbcc10>"
      ]
     },
     "execution_count": 27,
     "metadata": {},
     "output_type": "execute_result"
    }
   ],
   "source": [
    "model.fit(X_train,Y_train,validation_data=(X_test,Y_test),epochs=100,batch_size=64,verbose=1)"
   ]
  },
  {
   "cell_type": "code",
   "execution_count": 28,
   "id": "eaafe04a",
   "metadata": {},
   "outputs": [
    {
     "data": {
      "text/plain": [
       "'2.12.0'"
      ]
     },
     "execution_count": 28,
     "metadata": {},
     "output_type": "execute_result"
    }
   ],
   "source": [
    "tf.__version__"
   ]
  },
  {
   "cell_type": "code",
   "execution_count": 29,
   "id": "3260212a",
   "metadata": {},
   "outputs": [
    {
     "name": "stdout",
     "output_type": "stream",
     "text": [
      "49/49 [==============================] - 3s 35ms/step\n",
      "25/25 [==============================] - 1s 24ms/step\n"
     ]
    }
   ],
   "source": [
    "# Lets do the prediction and check performance metrics\n",
    "\n",
    "train_predict=model.predict(X_train)\n",
    "test_predict=model.predict(X_test)"
   ]
  },
  {
   "cell_type": "code",
   "execution_count": 30,
   "id": "d320d88e",
   "metadata": {},
   "outputs": [],
   "source": [
    "# Transformback to original form\n",
    "\n",
    "train_predict=ms.inverse_transform(train_predict)\n",
    "test_predict=ms.inverse_transform(test_predict)"
   ]
  },
  {
   "cell_type": "code",
   "execution_count": 31,
   "id": "e7f16ac9",
   "metadata": {},
   "outputs": [
    {
     "data": {
      "text/plain": [
       "41.837983613595775"
      ]
     },
     "execution_count": 31,
     "metadata": {},
     "output_type": "execute_result"
    }
   ],
   "source": [
    "# Calculate the RMSE performance metrics\n",
    "\n",
    "import math\n",
    "from sklearn.metrics import mean_squared_error\n",
    "math.sqrt(mean_squared_error(Y_train,train_predict))"
   ]
  },
  {
   "cell_type": "code",
   "execution_count": 32,
   "id": "55dd05b6",
   "metadata": {},
   "outputs": [
    {
     "data": {
      "text/plain": [
       "103.25228537055732"
      ]
     },
     "execution_count": 32,
     "metadata": {},
     "output_type": "execute_result"
    }
   ],
   "source": [
    "# Test Data RMSE\n",
    "\n",
    "math.sqrt(mean_squared_error(Y_test,test_predict))"
   ]
  },
  {
   "cell_type": "code",
   "execution_count": 42,
   "id": "7943bd55",
   "metadata": {},
   "outputs": [
    {
     "data": {
      "image/png": "[encoded data removed]",
      "text/plain": [
       "<Figure size 432x288 with 1 Axes>"
      ]
     },
     "metadata": {
      "needs_background": "light"
     },
     "output_type": "display_data"
    }
   ],
   "source": [
    "# Plotting\n",
    "# Shift trainn predictions for plotting\n",
    "\n",
    "look_back=100\n",
    "trainPredictPlot = numpy.empty_like(df1)\n",
    "trainPredictPlot[:, :] = np.nan\n",
    "trainPredictPlot[look_back:len(train_predict)+look_back, :] = train_predict\n",
    "\n",
    "# Shift test predictions for plotting\n",
    "\n",
    "testPredictPlot = numpy.empty_like(df1)\n",
    "testPredictPlot[:, :] = numpy.nan\n",
    "testPredictPlot[len(train_predict)+(look_back*2)+1:len(df1)-1, :] = test_predict\n",
    "\n",
    "# Plot baseline and predictions\n",
    "\n",
    "plt.plot(ms.inverse_transform(df1))\n",
    "plt.plot(trainPredictPlot)\n",
    "plt.plot(testPredictPlot)\n",
    "plt.show()"
   ]
  },
  {
   "cell_type": "code",
   "execution_count": 35,
   "id": "67920069",
   "metadata": {},
   "outputs": [
    {
     "data": {
      "text/plain": [
       "888"
      ]
     },
     "execution_count": 35,
     "metadata": {},
     "output_type": "execute_result"
    }
   ],
   "source": [
    "len(test_data)"
   ]
  },
  {
   "cell_type": "code",
   "execution_count": 38,
   "id": "3ed89786",
   "metadata": {},
   "outputs": [
    {
     "data": {
      "text/plain": [
       "(1, 100)"
      ]
     },
     "execution_count": 38,
     "metadata": {},
     "output_type": "execute_result"
    }
   ],
   "source": [
    "X_input = test_data[788:].reshape(1,-1)\n",
    "X_input.shape"
   ]
  },
  {
   "cell_type": "code",
   "execution_count": 43,
   "id": "582c2c15",
   "metadata": {},
   "outputs": [],
   "source": [
    "temp_input = list(X_input)\n",
    "temp_input = temp_input[0].tolist()"
   ]
  },
  {
   "cell_type": "code",
   "execution_count": 44,
   "id": "ca1bec30",
   "metadata": {},
   "outputs": [
    {
     "data": {
      "text/plain": [
       "[0.6746406362961096,\n",
       " 0.6946029508867672,\n",
       " 0.6865121647283531,\n",
       " 0.7036767669576879,\n",
       " 0.7052646717899506,\n",
       " 0.6558125559255107,\n",
       " 0.6609543677255012,\n",
       " 0.645150892711876,\n",
       " 0.6443191247964694,\n",
       " 0.6463607002409361,\n",
       " 0.631767032756371,\n",
       " 0.6177026668825603,\n",
       " 0.6242055482087114,\n",
       " 0.613619458304078,\n",
       " 0.6093094144194943,\n",
       " 0.6042432336180539,\n",
       " 0.6235250422904054,\n",
       " 0.6036383010087495,\n",
       " 0.5902544987427933,\n",
       " 0.612863321387222,\n",
       " 0.6355477750302009,\n",
       " 0.6339598701979382,\n",
       " 0.6338842391993881,\n",
       " 0.6131657876918742,\n",
       " 0.6069653726703753,\n",
       " 0.6018235608703848,\n",
       " 0.6046969042302579,\n",
       " 0.6160391310517473,\n",
       " 0.5971354196825983,\n",
       " 0.622920109681101,\n",
       " 0.6289692627054994,\n",
       " 0.6203491749363312,\n",
       " 0.622920109681101,\n",
       " 0.6316914017578207,\n",
       " 0.6422018606639037,\n",
       " 0.6570224211441197,\n",
       " 0.5848102206381506,\n",
       " 0.5643186044367389,\n",
       " 0.5950938442381316,\n",
       " 0.5816344109736253,\n",
       " 0.5510860064783345,\n",
       " 0.5246208105615258,\n",
       " 0.4978531483400648,\n",
       " 0.5216718362031024,\n",
       " 0.5361142416905669,\n",
       " 0.5392144780460908,\n",
       " 0.5272673186152969,\n",
       " 0.5773243670890411,\n",
       " 0.5960012431520884,\n",
       " 0.5906325383564471,\n",
       " 0.6113510475535094,\n",
       " 0.6144512262194847,\n",
       " 0.610746114944205,\n",
       " 0.6037139320072996,\n",
       " 0.5898764014395909,\n",
       " 0.6008405886474265,\n",
       " 0.6115022518610613,\n",
       " 0.6039407673134016,\n",
       " 0.5932791040997668,\n",
       " 0.5867762227736156,\n",
       " 0.6306327985363123,\n",
       " 0.6306327985363123,\n",
       " 0.6264740166488287,\n",
       " 0.6192149984058215,\n",
       " 0.6003112870366724,\n",
       " 0.5848858516367007,\n",
       " 0.575585200259678,\n",
       " 0.568931114625975,\n",
       " 0.5725605949027045,\n",
       " 0.5901032367456926,\n",
       " 0.585868823859659,\n",
       " 0.5540349808367578,\n",
       " 0.5494981016460719,\n",
       " 0.5357362020769132,\n",
       " 0.5401218192704986,\n",
       " 0.5443562898460813,\n",
       " 0.5305943902769227,\n",
       " 0.5417097817923102,\n",
       " 0.527796620226051,\n",
       " 0.5174373656275197,\n",
       " 0.5358117753859146,\n",
       " 0.5341482972446505,\n",
       " 0.5408780138769037,\n",
       " 0.5330140630245919,\n",
       " 0.5187984351536804,\n",
       " 0.5274185229228485,\n",
       " 0.532560334722839,\n",
       " 0.5355849400798126,\n",
       " 0.5590255306396478,\n",
       " 0.5560765562812243,\n",
       " 0.5635624675198827,\n",
       " 0.5572864214998334,\n",
       " 0.5560009829722231,\n",
       " 0.5705946504567879,\n",
       " 0.6081751801994354,\n",
       " 0.6215590401549403,\n",
       " 0.6057555074517664,\n",
       " 0.5870030580797178,\n",
       " 0.6043944379256055,\n",
       " 0.6183832304904151]"
      ]
     },
     "execution_count": 44,
     "metadata": {},
     "output_type": "execute_result"
    }
   ],
   "source": [
    "temp_input"
   ]
  },
  {
   "cell_type": "code",
   "execution_count": 46,
   "id": "c963213f",
   "metadata": {},
   "outputs": [
    {
     "name": "stdout",
     "output_type": "stream",
     "text": [
      "0 day input [0.62896926 0.62034917 0.62292011 0.6316914  0.64220186 0.65702242\n",
      " 0.58481022 0.5643186  0.59509384 0.58163441 0.55108601 0.52462081\n",
      " 0.49785315 0.52167184 0.53611424 0.53921448 0.52726732 0.57732437\n",
      " 0.59600124 0.59063254 0.61135105 0.61445123 0.61074611 0.60371393\n",
      " 0.5898764  0.60084059 0.61150225 0.60394077 0.5932791  0.58677622\n",
      " 0.6306328  0.6306328  0.62647402 0.619215   0.60031129 0.58488585\n",
      " 0.5755852  0.56893111 0.57256059 0.59010324 0.58586882 0.55403498\n",
      " 0.5494981  0.5357362  0.54012182 0.54435629 0.53059439 0.54170978\n",
      " 0.52779662 0.51743737 0.53581178 0.5341483  0.54087801 0.53301406\n",
      " 0.51879844 0.52741852 0.53256033 0.53558494 0.55902553 0.55607656\n",
      " 0.56356247 0.55728642 0.55600098 0.57059465 0.60817518 0.62155904\n",
      " 0.60575551 0.58700306 0.60439444 0.61838323 0.58651876 0.58225548\n",
      " 0.57349873 0.56488103 0.55808145 0.55343825 0.55072057 0.54939842\n",
      " 0.54880315 0.54827398 0.5472734  0.54546171 0.54272258 0.53914541\n",
      " 0.53497231 0.53052562 0.52613407 0.5220682  0.51850164 0.51549494\n",
      " 0.51300687 0.51092041 0.50907969 0.50732356 0.50551713 0.50356972\n",
      " 0.50144291 0.4991478  0.4967334  0.49427098]\n",
      "0 day output [[0.4918374]]\n",
      "1 day input [0.62034917 0.62292011 0.6316914  0.64220186 0.65702242 0.58481022\n",
      " 0.5643186  0.59509384 0.58163441 0.55108601 0.52462081 0.49785315\n",
      " 0.52167184 0.53611424 0.53921448 0.52726732 0.57732437 0.59600124\n",
      " 0.59063254 0.61135105 0.61445123 0.61074611 0.60371393 0.5898764\n",
      " 0.60084059 0.61150225 0.60394077 0.5932791  0.58677622 0.6306328\n",
      " 0.6306328  0.62647402 0.619215   0.60031129 0.58488585 0.5755852\n",
      " 0.56893111 0.57256059 0.59010324 0.58586882 0.55403498 0.5494981\n",
      " 0.5357362  0.54012182 0.54435629 0.53059439 0.54170978 0.52779662\n",
      " 0.51743737 0.53581178 0.5341483  0.54087801 0.53301406 0.51879844\n",
      " 0.52741852 0.53256033 0.53558494 0.55902553 0.55607656 0.56356247\n",
      " 0.55728642 0.55600098 0.57059465 0.60817518 0.62155904 0.60575551\n",
      " 0.58700306 0.60439444 0.61838323 0.58651876 0.58225548 0.57349873\n",
      " 0.56488103 0.55808145 0.55343825 0.55072057 0.54939842 0.54880315\n",
      " 0.54827398 0.5472734  0.54546171 0.54272258 0.53914541 0.53497231\n",
      " 0.53052562 0.52613407 0.5220682  0.51850164 0.51549494 0.51300687\n",
      " 0.51092041 0.50907969 0.50732356 0.50551713 0.50356972 0.50144291\n",
      " 0.4991478  0.4967334  0.49427098 0.49183741]\n",
      "1 day output [[0.48950005]]\n",
      "2 day input [0.62292011 0.6316914  0.64220186 0.65702242 0.58481022 0.5643186\n",
      " 0.59509384 0.58163441 0.55108601 0.52462081 0.49785315 0.52167184\n",
      " 0.53611424 0.53921448 0.52726732 0.57732437 0.59600124 0.59063254\n",
      " 0.61135105 0.61445123 0.61074611 0.60371393 0.5898764  0.60084059\n",
      " 0.61150225 0.60394077 0.5932791  0.58677622 0.6306328  0.6306328\n",
      " 0.62647402 0.619215   0.60031129 0.58488585 0.5755852  0.56893111\n",
      " 0.57256059 0.59010324 0.58586882 0.55403498 0.5494981  0.5357362\n",
      " 0.54012182 0.54435629 0.53059439 0.54170978 0.52779662 0.51743737\n",
      " 0.53581178 0.5341483  0.54087801 0.53301406 0.51879844 0.52741852\n",
      " 0.53256033 0.53558494 0.55902553 0.55607656 0.56356247 0.55728642\n",
      " 0.55600098 0.57059465 0.60817518 0.62155904 0.60575551 0.58700306\n",
      " 0.60439444 0.61838323 0.58651876 0.58225548 0.57349873 0.56488103\n",
      " 0.55808145 0.55343825 0.55072057 0.54939842 0.54880315 0.54827398\n",
      " 0.5472734  0.54546171 0.54272258 0.53914541 0.53497231 0.53052562\n",
      " 0.52613407 0.5220682  0.51850164 0.51549494 0.51300687 0.51092041\n",
      " 0.50907969 0.50732356 0.50551713 0.50356972 0.50144291 0.4991478\n",
      " 0.4967334  0.49427098 0.49183741 0.48950005]\n",
      "2 day output [[0.48730654]]\n",
      "3 day input [0.6316914  0.64220186 0.65702242 0.58481022 0.5643186  0.59509384\n",
      " 0.58163441 0.55108601 0.52462081 0.49785315 0.52167184 0.53611424\n",
      " 0.53921448 0.52726732 0.57732437 0.59600124 0.59063254 0.61135105\n",
      " 0.61445123 0.61074611 0.60371393 0.5898764  0.60084059 0.61150225\n",
      " 0.60394077 0.5932791  0.58677622 0.6306328  0.6306328  0.62647402\n",
      " 0.619215   0.60031129 0.58488585 0.5755852  0.56893111 0.57256059\n",
      " 0.59010324 0.58586882 0.55403498 0.5494981  0.5357362  0.54012182\n",
      " 0.54435629 0.53059439 0.54170978 0.52779662 0.51743737 0.53581178\n",
      " 0.5341483  0.54087801 0.53301406 0.51879844 0.52741852 0.53256033\n",
      " 0.53558494 0.55902553 0.55607656 0.56356247 0.55728642 0.55600098\n",
      " 0.57059465 0.60817518 0.62155904 0.60575551 0.58700306 0.60439444\n",
      " 0.61838323 0.58651876 0.58225548 0.57349873 0.56488103 0.55808145\n",
      " 0.55343825 0.55072057 0.54939842 0.54880315 0.54827398 0.5472734\n",
      " 0.54546171 0.54272258 0.53914541 0.53497231 0.53052562 0.52613407\n",
      " 0.5220682  0.51850164 0.51549494 0.51300687 0.51092041 0.50907969\n",
      " 0.50732356 0.50551713 0.50356972 0.50144291 0.4991478  0.4967334\n",
      " 0.49427098 0.49183741 0.48950005 0.48730654]\n",
      "3 day output [[0.48527965]]\n",
      "4 day input [0.64220186 0.65702242 0.58481022 0.5643186  0.59509384 0.58163441\n",
      " 0.55108601 0.52462081 0.49785315 0.52167184 0.53611424 0.53921448\n",
      " 0.52726732 0.57732437 0.59600124 0.59063254 0.61135105 0.61445123\n",
      " 0.61074611 0.60371393 0.5898764  0.60084059 0.61150225 0.60394077\n",
      " 0.5932791  0.58677622 0.6306328  0.6306328  0.62647402 0.619215\n",
      " 0.60031129 0.58488585 0.5755852  0.56893111 0.57256059 0.59010324\n",
      " 0.58586882 0.55403498 0.5494981  0.5357362  0.54012182 0.54435629\n",
      " 0.53059439 0.54170978 0.52779662 0.51743737 0.53581178 0.5341483\n",
      " 0.54087801 0.53301406 0.51879844 0.52741852 0.53256033 0.53558494\n",
      " 0.55902553 0.55607656 0.56356247 0.55728642 0.55600098 0.57059465\n",
      " 0.60817518 0.62155904 0.60575551 0.58700306 0.60439444 0.61838323\n",
      " 0.58651876 0.58225548 0.57349873 0.56488103 0.55808145 0.55343825\n",
      " 0.55072057 0.54939842 0.54880315 0.54827398 0.5472734  0.54546171\n",
      " 0.54272258 0.53914541 0.53497231 0.53052562 0.52613407 0.5220682\n",
      " 0.51850164 0.51549494 0.51300687 0.51092041 0.50907969 0.50732356\n",
      " 0.50551713 0.50356972 0.50144291 0.4991478  0.4967334  0.49427098\n",
      " 0.49183741 0.48950005 0.48730654 0.48527965]\n",
      "4 day output [[0.48341835]]\n",
      "5 day input [0.65702242 0.58481022 0.5643186  0.59509384 0.58163441 0.55108601\n",
      " 0.52462081 0.49785315 0.52167184 0.53611424 0.53921448 0.52726732\n",
      " 0.57732437 0.59600124 0.59063254 0.61135105 0.61445123 0.61074611\n",
      " 0.60371393 0.5898764  0.60084059 0.61150225 0.60394077 0.5932791\n",
      " 0.58677622 0.6306328  0.6306328  0.62647402 0.619215   0.60031129\n",
      " 0.58488585 0.5755852  0.56893111 0.57256059 0.59010324 0.58586882\n",
      " 0.55403498 0.5494981  0.5357362  0.54012182 0.54435629 0.53059439\n",
      " 0.54170978 0.52779662 0.51743737 0.53581178 0.5341483  0.54087801\n",
      " 0.53301406 0.51879844 0.52741852 0.53256033 0.53558494 0.55902553\n",
      " 0.55607656 0.56356247 0.55728642 0.55600098 0.57059465 0.60817518\n",
      " 0.62155904 0.60575551 0.58700306 0.60439444 0.61838323 0.58651876\n",
      " 0.58225548 0.57349873 0.56488103 0.55808145 0.55343825 0.55072057\n",
      " 0.54939842 0.54880315 0.54827398 0.5472734  0.54546171 0.54272258\n",
      " 0.53914541 0.53497231 0.53052562 0.52613407 0.5220682  0.51850164\n",
      " 0.51549494 0.51300687 0.51092041 0.50907969 0.50732356 0.50551713\n",
      " 0.50356972 0.50144291 0.4991478  0.4967334  0.49427098 0.49183741\n",
      " 0.48950005 0.48730654 0.48527965 0.48341835]\n",
      "5 day output [[0.48170203]]\n",
      "6 day input [0.58481022 0.5643186  0.59509384 0.58163441 0.55108601 0.52462081\n",
      " 0.49785315 0.52167184 0.53611424 0.53921448 0.52726732 0.57732437\n",
      " 0.59600124 0.59063254 0.61135105 0.61445123 0.61074611 0.60371393\n",
      " 0.5898764  0.60084059 0.61150225 0.60394077 0.5932791  0.58677622\n",
      " 0.6306328  0.6306328  0.62647402 0.619215   0.60031129 0.58488585\n",
      " 0.5755852  0.56893111 0.57256059 0.59010324 0.58586882 0.55403498\n",
      " 0.5494981  0.5357362  0.54012182 0.54435629 0.53059439 0.54170978\n",
      " 0.52779662 0.51743737 0.53581178 0.5341483  0.54087801 0.53301406\n",
      " 0.51879844 0.52741852 0.53256033 0.53558494 0.55902553 0.55607656\n",
      " 0.56356247 0.55728642 0.55600098 0.57059465 0.60817518 0.62155904\n",
      " 0.60575551 0.58700306 0.60439444 0.61838323 0.58651876 0.58225548\n",
      " 0.57349873 0.56488103 0.55808145 0.55343825 0.55072057 0.54939842\n",
      " 0.54880315 0.54827398 0.5472734  0.54546171 0.54272258 0.53914541\n",
      " 0.53497231 0.53052562 0.52613407 0.5220682  0.51850164 0.51549494\n",
      " 0.51300687 0.51092041 0.50907969 0.50732356 0.50551713 0.50356972\n",
      " 0.50144291 0.4991478  0.4967334  0.49427098 0.49183741 0.48950005\n",
      " 0.48730654 0.48527965 0.48341835 0.48170203]\n",
      "6 day output [[0.4800978]]\n",
      "7 day input [0.5643186  0.59509384 0.58163441 0.55108601 0.52462081 0.49785315\n",
      " 0.52167184 0.53611424 0.53921448 0.52726732 0.57732437 0.59600124\n",
      " 0.59063254 0.61135105 0.61445123 0.61074611 0.60371393 0.5898764\n",
      " 0.60084059 0.61150225 0.60394077 0.5932791  0.58677622 0.6306328\n",
      " 0.6306328  0.62647402 0.619215   0.60031129 0.58488585 0.5755852\n",
      " 0.56893111 0.57256059 0.59010324 0.58586882 0.55403498 0.5494981\n",
      " 0.5357362  0.54012182 0.54435629 0.53059439 0.54170978 0.52779662\n",
      " 0.51743737 0.53581178 0.5341483  0.54087801 0.53301406 0.51879844\n",
      " 0.52741852 0.53256033 0.53558494 0.55902553 0.55607656 0.56356247\n",
      " 0.55728642 0.55600098 0.57059465 0.60817518 0.62155904 0.60575551\n",
      " 0.58700306 0.60439444 0.61838323 0.58651876 0.58225548 0.57349873\n",
      " 0.56488103 0.55808145 0.55343825 0.55072057 0.54939842 0.54880315\n",
      " 0.54827398 0.5472734  0.54546171 0.54272258 0.53914541 0.53497231\n",
      " 0.53052562 0.52613407 0.5220682  0.51850164 0.51549494 0.51300687\n",
      " 0.51092041 0.50907969 0.50732356 0.50551713 0.50356972 0.50144291\n",
      " 0.4991478  0.4967334  0.49427098 0.49183741 0.48950005 0.48730654\n",
      " 0.48527965 0.48341835 0.48170203 0.4800978 ]\n",
      "7 day output [[0.47856814]]\n",
      "8 day input [0.59509384 0.58163441 0.55108601 0.52462081 0.49785315 0.52167184\n",
      " 0.53611424 0.53921448 0.52726732 0.57732437 0.59600124 0.59063254\n",
      " 0.61135105 0.61445123 0.61074611 0.60371393 0.5898764  0.60084059\n",
      " 0.61150225 0.60394077 0.5932791  0.58677622 0.6306328  0.6306328\n",
      " 0.62647402 0.619215   0.60031129 0.58488585 0.5755852  0.56893111\n",
      " 0.57256059 0.59010324 0.58586882 0.55403498 0.5494981  0.5357362\n",
      " 0.54012182 0.54435629 0.53059439 0.54170978 0.52779662 0.51743737\n",
      " 0.53581178 0.5341483  0.54087801 0.53301406 0.51879844 0.52741852\n",
      " 0.53256033 0.53558494 0.55902553 0.55607656 0.56356247 0.55728642\n",
      " 0.55600098 0.57059465 0.60817518 0.62155904 0.60575551 0.58700306\n",
      " 0.60439444 0.61838323 0.58651876 0.58225548 0.57349873 0.56488103\n",
      " 0.55808145 0.55343825 0.55072057 0.54939842 0.54880315 0.54827398\n",
      " 0.5472734  0.54546171 0.54272258 0.53914541 0.53497231 0.53052562\n",
      " 0.52613407 0.5220682  0.51850164 0.51549494 0.51300687 0.51092041\n",
      " 0.50907969 0.50732356 0.50551713 0.50356972 0.50144291 0.4991478\n",
      " 0.4967334  0.49427098 0.49183741 0.48950005 0.48730654 0.48527965\n",
      " 0.48341835 0.48170203 0.4800978  0.47856814]\n"
     ]
    },
    {
     "name": "stdout",
     "output_type": "stream",
     "text": [
      "8 day output [[0.47707817]]\n",
      "9 day input [0.58163441 0.55108601 0.52462081 0.49785315 0.52167184 0.53611424\n",
      " 0.53921448 0.52726732 0.57732437 0.59600124 0.59063254 0.61135105\n",
      " 0.61445123 0.61074611 0.60371393 0.5898764  0.60084059 0.61150225\n",
      " 0.60394077 0.5932791  0.58677622 0.6306328  0.6306328  0.62647402\n",
      " 0.619215   0.60031129 0.58488585 0.5755852  0.56893111 0.57256059\n",
      " 0.59010324 0.58586882 0.55403498 0.5494981  0.5357362  0.54012182\n",
      " 0.54435629 0.53059439 0.54170978 0.52779662 0.51743737 0.53581178\n",
      " 0.5341483  0.54087801 0.53301406 0.51879844 0.52741852 0.53256033\n",
      " 0.53558494 0.55902553 0.55607656 0.56356247 0.55728642 0.55600098\n",
      " 0.57059465 0.60817518 0.62155904 0.60575551 0.58700306 0.60439444\n",
      " 0.61838323 0.58651876 0.58225548 0.57349873 0.56488103 0.55808145\n",
      " 0.55343825 0.55072057 0.54939842 0.54880315 0.54827398 0.5472734\n",
      " 0.54546171 0.54272258 0.53914541 0.53497231 0.53052562 0.52613407\n",
      " 0.5220682  0.51850164 0.51549494 0.51300687 0.51092041 0.50907969\n",
      " 0.50732356 0.50551713 0.50356972 0.50144291 0.4991478  0.4967334\n",
      " 0.49427098 0.49183741 0.48950005 0.48730654 0.48527965 0.48341835\n",
      " 0.48170203 0.4800978  0.47856814 0.47707817]\n",
      "9 day output [[0.47560123]]\n",
      "10 day input [0.55108601 0.52462081 0.49785315 0.52167184 0.53611424 0.53921448\n",
      " 0.52726732 0.57732437 0.59600124 0.59063254 0.61135105 0.61445123\n",
      " 0.61074611 0.60371393 0.5898764  0.60084059 0.61150225 0.60394077\n",
      " 0.5932791  0.58677622 0.6306328  0.6306328  0.62647402 0.619215\n",
      " 0.60031129 0.58488585 0.5755852  0.56893111 0.57256059 0.59010324\n",
      " 0.58586882 0.55403498 0.5494981  0.5357362  0.54012182 0.54435629\n",
      " 0.53059439 0.54170978 0.52779662 0.51743737 0.53581178 0.5341483\n",
      " 0.54087801 0.53301406 0.51879844 0.52741852 0.53256033 0.53558494\n",
      " 0.55902553 0.55607656 0.56356247 0.55728642 0.55600098 0.57059465\n",
      " 0.60817518 0.62155904 0.60575551 0.58700306 0.60439444 0.61838323\n",
      " 0.58651876 0.58225548 0.57349873 0.56488103 0.55808145 0.55343825\n",
      " 0.55072057 0.54939842 0.54880315 0.54827398 0.5472734  0.54546171\n",
      " 0.54272258 0.53914541 0.53497231 0.53052562 0.52613407 0.5220682\n",
      " 0.51850164 0.51549494 0.51300687 0.51092041 0.50907969 0.50732356\n",
      " 0.50551713 0.50356972 0.50144291 0.4991478  0.4967334  0.49427098\n",
      " 0.49183741 0.48950005 0.48730654 0.48527965 0.48341835 0.48170203\n",
      " 0.4800978  0.47856814 0.47707817 0.47560123]\n",
      "10 day output [[0.47412154]]\n",
      "11 day input [0.52462081 0.49785315 0.52167184 0.53611424 0.53921448 0.52726732\n",
      " 0.57732437 0.59600124 0.59063254 0.61135105 0.61445123 0.61074611\n",
      " 0.60371393 0.5898764  0.60084059 0.61150225 0.60394077 0.5932791\n",
      " 0.58677622 0.6306328  0.6306328  0.62647402 0.619215   0.60031129\n",
      " 0.58488585 0.5755852  0.56893111 0.57256059 0.59010324 0.58586882\n",
      " 0.55403498 0.5494981  0.5357362  0.54012182 0.54435629 0.53059439\n",
      " 0.54170978 0.52779662 0.51743737 0.53581178 0.5341483  0.54087801\n",
      " 0.53301406 0.51879844 0.52741852 0.53256033 0.53558494 0.55902553\n",
      " 0.55607656 0.56356247 0.55728642 0.55600098 0.57059465 0.60817518\n",
      " 0.62155904 0.60575551 0.58700306 0.60439444 0.61838323 0.58651876\n",
      " 0.58225548 0.57349873 0.56488103 0.55808145 0.55343825 0.55072057\n",
      " 0.54939842 0.54880315 0.54827398 0.5472734  0.54546171 0.54272258\n",
      " 0.53914541 0.53497231 0.53052562 0.52613407 0.5220682  0.51850164\n",
      " 0.51549494 0.51300687 0.51092041 0.50907969 0.50732356 0.50551713\n",
      " 0.50356972 0.50144291 0.4991478  0.4967334  0.49427098 0.49183741\n",
      " 0.48950005 0.48730654 0.48527965 0.48341835 0.48170203 0.4800978\n",
      " 0.47856814 0.47707817 0.47560123 0.47412154]\n",
      "11 day output [[0.47263402]]\n",
      "12 day input [0.49785315 0.52167184 0.53611424 0.53921448 0.52726732 0.57732437\n",
      " 0.59600124 0.59063254 0.61135105 0.61445123 0.61074611 0.60371393\n",
      " 0.5898764  0.60084059 0.61150225 0.60394077 0.5932791  0.58677622\n",
      " 0.6306328  0.6306328  0.62647402 0.619215   0.60031129 0.58488585\n",
      " 0.5755852  0.56893111 0.57256059 0.59010324 0.58586882 0.55403498\n",
      " 0.5494981  0.5357362  0.54012182 0.54435629 0.53059439 0.54170978\n",
      " 0.52779662 0.51743737 0.53581178 0.5341483  0.54087801 0.53301406\n",
      " 0.51879844 0.52741852 0.53256033 0.53558494 0.55902553 0.55607656\n",
      " 0.56356247 0.55728642 0.55600098 0.57059465 0.60817518 0.62155904\n",
      " 0.60575551 0.58700306 0.60439444 0.61838323 0.58651876 0.58225548\n",
      " 0.57349873 0.56488103 0.55808145 0.55343825 0.55072057 0.54939842\n",
      " 0.54880315 0.54827398 0.5472734  0.54546171 0.54272258 0.53914541\n",
      " 0.53497231 0.53052562 0.52613407 0.5220682  0.51850164 0.51549494\n",
      " 0.51300687 0.51092041 0.50907969 0.50732356 0.50551713 0.50356972\n",
      " 0.50144291 0.4991478  0.4967334  0.49427098 0.49183741 0.48950005\n",
      " 0.48730654 0.48527965 0.48341835 0.48170203 0.4800978  0.47856814\n",
      " 0.47707817 0.47560123 0.47412154 0.47263402]\n",
      "12 day output [[0.47114444]]\n",
      "13 day input [0.52167184 0.53611424 0.53921448 0.52726732 0.57732437 0.59600124\n",
      " 0.59063254 0.61135105 0.61445123 0.61074611 0.60371393 0.5898764\n",
      " 0.60084059 0.61150225 0.60394077 0.5932791  0.58677622 0.6306328\n",
      " 0.6306328  0.62647402 0.619215   0.60031129 0.58488585 0.5755852\n",
      " 0.56893111 0.57256059 0.59010324 0.58586882 0.55403498 0.5494981\n",
      " 0.5357362  0.54012182 0.54435629 0.53059439 0.54170978 0.52779662\n",
      " 0.51743737 0.53581178 0.5341483  0.54087801 0.53301406 0.51879844\n",
      " 0.52741852 0.53256033 0.53558494 0.55902553 0.55607656 0.56356247\n",
      " 0.55728642 0.55600098 0.57059465 0.60817518 0.62155904 0.60575551\n",
      " 0.58700306 0.60439444 0.61838323 0.58651876 0.58225548 0.57349873\n",
      " 0.56488103 0.55808145 0.55343825 0.55072057 0.54939842 0.54880315\n",
      " 0.54827398 0.5472734  0.54546171 0.54272258 0.53914541 0.53497231\n",
      " 0.53052562 0.52613407 0.5220682  0.51850164 0.51549494 0.51300687\n",
      " 0.51092041 0.50907969 0.50732356 0.50551713 0.50356972 0.50144291\n",
      " 0.4991478  0.4967334  0.49427098 0.49183741 0.48950005 0.48730654\n",
      " 0.48527965 0.48341835 0.48170203 0.4800978  0.47856814 0.47707817\n",
      " 0.47560123 0.47412154 0.47263402 0.47114444]\n",
      "13 day output [[0.46966448]]\n",
      "14 day input [0.53611424 0.53921448 0.52726732 0.57732437 0.59600124 0.59063254\n",
      " 0.61135105 0.61445123 0.61074611 0.60371393 0.5898764  0.60084059\n",
      " 0.61150225 0.60394077 0.5932791  0.58677622 0.6306328  0.6306328\n",
      " 0.62647402 0.619215   0.60031129 0.58488585 0.5755852  0.56893111\n",
      " 0.57256059 0.59010324 0.58586882 0.55403498 0.5494981  0.5357362\n",
      " 0.54012182 0.54435629 0.53059439 0.54170978 0.52779662 0.51743737\n",
      " 0.53581178 0.5341483  0.54087801 0.53301406 0.51879844 0.52741852\n",
      " 0.53256033 0.53558494 0.55902553 0.55607656 0.56356247 0.55728642\n",
      " 0.55600098 0.57059465 0.60817518 0.62155904 0.60575551 0.58700306\n",
      " 0.60439444 0.61838323 0.58651876 0.58225548 0.57349873 0.56488103\n",
      " 0.55808145 0.55343825 0.55072057 0.54939842 0.54880315 0.54827398\n",
      " 0.5472734  0.54546171 0.54272258 0.53914541 0.53497231 0.53052562\n",
      " 0.52613407 0.5220682  0.51850164 0.51549494 0.51300687 0.51092041\n",
      " 0.50907969 0.50732356 0.50551713 0.50356972 0.50144291 0.4991478\n",
      " 0.4967334  0.49427098 0.49183741 0.48950005 0.48730654 0.48527965\n",
      " 0.48341835 0.48170203 0.4800978  0.47856814 0.47707817 0.47560123\n",
      " 0.47412154 0.47263402 0.47114444 0.46966448]\n",
      "14 day output [[0.46820945]]\n",
      "15 day input [0.53921448 0.52726732 0.57732437 0.59600124 0.59063254 0.61135105\n",
      " 0.61445123 0.61074611 0.60371393 0.5898764  0.60084059 0.61150225\n",
      " 0.60394077 0.5932791  0.58677622 0.6306328  0.6306328  0.62647402\n",
      " 0.619215   0.60031129 0.58488585 0.5755852  0.56893111 0.57256059\n",
      " 0.59010324 0.58586882 0.55403498 0.5494981  0.5357362  0.54012182\n",
      " 0.54435629 0.53059439 0.54170978 0.52779662 0.51743737 0.53581178\n",
      " 0.5341483  0.54087801 0.53301406 0.51879844 0.52741852 0.53256033\n",
      " 0.53558494 0.55902553 0.55607656 0.56356247 0.55728642 0.55600098\n",
      " 0.57059465 0.60817518 0.62155904 0.60575551 0.58700306 0.60439444\n",
      " 0.61838323 0.58651876 0.58225548 0.57349873 0.56488103 0.55808145\n",
      " 0.55343825 0.55072057 0.54939842 0.54880315 0.54827398 0.5472734\n",
      " 0.54546171 0.54272258 0.53914541 0.53497231 0.53052562 0.52613407\n",
      " 0.5220682  0.51850164 0.51549494 0.51300687 0.51092041 0.50907969\n",
      " 0.50732356 0.50551713 0.50356972 0.50144291 0.4991478  0.4967334\n",
      " 0.49427098 0.49183741 0.48950005 0.48730654 0.48527965 0.48341835\n",
      " 0.48170203 0.4800978  0.47856814 0.47707817 0.47560123 0.47412154\n",
      " 0.47263402 0.47114444 0.46966448 0.46820945]\n",
      "15 day output [[0.46679437]]\n",
      "16 day input [0.52726732 0.57732437 0.59600124 0.59063254 0.61135105 0.61445123\n",
      " 0.61074611 0.60371393 0.5898764  0.60084059 0.61150225 0.60394077\n",
      " 0.5932791  0.58677622 0.6306328  0.6306328  0.62647402 0.619215\n",
      " 0.60031129 0.58488585 0.5755852  0.56893111 0.57256059 0.59010324\n",
      " 0.58586882 0.55403498 0.5494981  0.5357362  0.54012182 0.54435629\n",
      " 0.53059439 0.54170978 0.52779662 0.51743737 0.53581178 0.5341483\n",
      " 0.54087801 0.53301406 0.51879844 0.52741852 0.53256033 0.53558494\n",
      " 0.55902553 0.55607656 0.56356247 0.55728642 0.55600098 0.57059465\n",
      " 0.60817518 0.62155904 0.60575551 0.58700306 0.60439444 0.61838323\n",
      " 0.58651876 0.58225548 0.57349873 0.56488103 0.55808145 0.55343825\n",
      " 0.55072057 0.54939842 0.54880315 0.54827398 0.5472734  0.54546171\n",
      " 0.54272258 0.53914541 0.53497231 0.53052562 0.52613407 0.5220682\n",
      " 0.51850164 0.51549494 0.51300687 0.51092041 0.50907969 0.50732356\n",
      " 0.50551713 0.50356972 0.50144291 0.4991478  0.4967334  0.49427098\n",
      " 0.49183741 0.48950005 0.48730654 0.48527965 0.48341835 0.48170203\n",
      " 0.4800978  0.47856814 0.47707817 0.47560123 0.47412154 0.47263402\n",
      " 0.47114444 0.46966448 0.46820945 0.46679437]\n",
      "16 day output [[0.46543187]]\n",
      "17 day input [0.57732437 0.59600124 0.59063254 0.61135105 0.61445123 0.61074611\n",
      " 0.60371393 0.5898764  0.60084059 0.61150225 0.60394077 0.5932791\n",
      " 0.58677622 0.6306328  0.6306328  0.62647402 0.619215   0.60031129\n",
      " 0.58488585 0.5755852  0.56893111 0.57256059 0.59010324 0.58586882\n",
      " 0.55403498 0.5494981  0.5357362  0.54012182 0.54435629 0.53059439\n",
      " 0.54170978 0.52779662 0.51743737 0.53581178 0.5341483  0.54087801\n",
      " 0.53301406 0.51879844 0.52741852 0.53256033 0.53558494 0.55902553\n",
      " 0.55607656 0.56356247 0.55728642 0.55600098 0.57059465 0.60817518\n",
      " 0.62155904 0.60575551 0.58700306 0.60439444 0.61838323 0.58651876\n",
      " 0.58225548 0.57349873 0.56488103 0.55808145 0.55343825 0.55072057\n",
      " 0.54939842 0.54880315 0.54827398 0.5472734  0.54546171 0.54272258\n",
      " 0.53914541 0.53497231 0.53052562 0.52613407 0.5220682  0.51850164\n",
      " 0.51549494 0.51300687 0.51092041 0.50907969 0.50732356 0.50551713\n",
      " 0.50356972 0.50144291 0.4991478  0.4967334  0.49427098 0.49183741\n",
      " 0.48950005 0.48730654 0.48527965 0.48341835 0.48170203 0.4800978\n",
      " 0.47856814 0.47707817 0.47560123 0.47412154 0.47263402 0.47114444\n",
      " 0.46966448 0.46820945 0.46679437 0.46543187]\n"
     ]
    },
    {
     "name": "stdout",
     "output_type": "stream",
     "text": [
      "17 day output [[0.4641291]]\n",
      "18 day input [0.59600124 0.59063254 0.61135105 0.61445123 0.61074611 0.60371393\n",
      " 0.5898764  0.60084059 0.61150225 0.60394077 0.5932791  0.58677622\n",
      " 0.6306328  0.6306328  0.62647402 0.619215   0.60031129 0.58488585\n",
      " 0.5755852  0.56893111 0.57256059 0.59010324 0.58586882 0.55403498\n",
      " 0.5494981  0.5357362  0.54012182 0.54435629 0.53059439 0.54170978\n",
      " 0.52779662 0.51743737 0.53581178 0.5341483  0.54087801 0.53301406\n",
      " 0.51879844 0.52741852 0.53256033 0.53558494 0.55902553 0.55607656\n",
      " 0.56356247 0.55728642 0.55600098 0.57059465 0.60817518 0.62155904\n",
      " 0.60575551 0.58700306 0.60439444 0.61838323 0.58651876 0.58225548\n",
      " 0.57349873 0.56488103 0.55808145 0.55343825 0.55072057 0.54939842\n",
      " 0.54880315 0.54827398 0.5472734  0.54546171 0.54272258 0.53914541\n",
      " 0.53497231 0.53052562 0.52613407 0.5220682  0.51850164 0.51549494\n",
      " 0.51300687 0.51092041 0.50907969 0.50732356 0.50551713 0.50356972\n",
      " 0.50144291 0.4991478  0.4967334  0.49427098 0.49183741 0.48950005\n",
      " 0.48730654 0.48527965 0.48341835 0.48170203 0.4800978  0.47856814\n",
      " 0.47707817 0.47560123 0.47412154 0.47263402 0.47114444 0.46966448\n",
      " 0.46820945 0.46679437 0.46543187 0.46412909]\n",
      "18 day output [[0.46288854]]\n",
      "19 day input [0.59063254 0.61135105 0.61445123 0.61074611 0.60371393 0.5898764\n",
      " 0.60084059 0.61150225 0.60394077 0.5932791  0.58677622 0.6306328\n",
      " 0.6306328  0.62647402 0.619215   0.60031129 0.58488585 0.5755852\n",
      " 0.56893111 0.57256059 0.59010324 0.58586882 0.55403498 0.5494981\n",
      " 0.5357362  0.54012182 0.54435629 0.53059439 0.54170978 0.52779662\n",
      " 0.51743737 0.53581178 0.5341483  0.54087801 0.53301406 0.51879844\n",
      " 0.52741852 0.53256033 0.53558494 0.55902553 0.55607656 0.56356247\n",
      " 0.55728642 0.55600098 0.57059465 0.60817518 0.62155904 0.60575551\n",
      " 0.58700306 0.60439444 0.61838323 0.58651876 0.58225548 0.57349873\n",
      " 0.56488103 0.55808145 0.55343825 0.55072057 0.54939842 0.54880315\n",
      " 0.54827398 0.5472734  0.54546171 0.54272258 0.53914541 0.53497231\n",
      " 0.53052562 0.52613407 0.5220682  0.51850164 0.51549494 0.51300687\n",
      " 0.51092041 0.50907969 0.50732356 0.50551713 0.50356972 0.50144291\n",
      " 0.4991478  0.4967334  0.49427098 0.49183741 0.48950005 0.48730654\n",
      " 0.48527965 0.48341835 0.48170203 0.4800978  0.47856814 0.47707817\n",
      " 0.47560123 0.47412154 0.47263402 0.47114444 0.46966448 0.46820945\n",
      " 0.46679437 0.46543187 0.46412909 0.46288854]\n",
      "19 day output [[0.4617079]]\n",
      "20 day input [0.61135105 0.61445123 0.61074611 0.60371393 0.5898764  0.60084059\n",
      " 0.61150225 0.60394077 0.5932791  0.58677622 0.6306328  0.6306328\n",
      " 0.62647402 0.619215   0.60031129 0.58488585 0.5755852  0.56893111\n",
      " 0.57256059 0.59010324 0.58586882 0.55403498 0.5494981  0.5357362\n",
      " 0.54012182 0.54435629 0.53059439 0.54170978 0.52779662 0.51743737\n",
      " 0.53581178 0.5341483  0.54087801 0.53301406 0.51879844 0.52741852\n",
      " 0.53256033 0.53558494 0.55902553 0.55607656 0.56356247 0.55728642\n",
      " 0.55600098 0.57059465 0.60817518 0.62155904 0.60575551 0.58700306\n",
      " 0.60439444 0.61838323 0.58651876 0.58225548 0.57349873 0.56488103\n",
      " 0.55808145 0.55343825 0.55072057 0.54939842 0.54880315 0.54827398\n",
      " 0.5472734  0.54546171 0.54272258 0.53914541 0.53497231 0.53052562\n",
      " 0.52613407 0.5220682  0.51850164 0.51549494 0.51300687 0.51092041\n",
      " 0.50907969 0.50732356 0.50551713 0.50356972 0.50144291 0.4991478\n",
      " 0.4967334  0.49427098 0.49183741 0.48950005 0.48730654 0.48527965\n",
      " 0.48341835 0.48170203 0.4800978  0.47856814 0.47707817 0.47560123\n",
      " 0.47412154 0.47263402 0.47114444 0.46966448 0.46820945 0.46679437\n",
      " 0.46543187 0.46412909 0.46288854 0.46170789]\n",
      "20 day output [[0.4605811]]\n",
      "21 day input [0.61445123 0.61074611 0.60371393 0.5898764  0.60084059 0.61150225\n",
      " 0.60394077 0.5932791  0.58677622 0.6306328  0.6306328  0.62647402\n",
      " 0.619215   0.60031129 0.58488585 0.5755852  0.56893111 0.57256059\n",
      " 0.59010324 0.58586882 0.55403498 0.5494981  0.5357362  0.54012182\n",
      " 0.54435629 0.53059439 0.54170978 0.52779662 0.51743737 0.53581178\n",
      " 0.5341483  0.54087801 0.53301406 0.51879844 0.52741852 0.53256033\n",
      " 0.53558494 0.55902553 0.55607656 0.56356247 0.55728642 0.55600098\n",
      " 0.57059465 0.60817518 0.62155904 0.60575551 0.58700306 0.60439444\n",
      " 0.61838323 0.58651876 0.58225548 0.57349873 0.56488103 0.55808145\n",
      " 0.55343825 0.55072057 0.54939842 0.54880315 0.54827398 0.5472734\n",
      " 0.54546171 0.54272258 0.53914541 0.53497231 0.53052562 0.52613407\n",
      " 0.5220682  0.51850164 0.51549494 0.51300687 0.51092041 0.50907969\n",
      " 0.50732356 0.50551713 0.50356972 0.50144291 0.4991478  0.4967334\n",
      " 0.49427098 0.49183741 0.48950005 0.48730654 0.48527965 0.48341835\n",
      " 0.48170203 0.4800978  0.47856814 0.47707817 0.47560123 0.47412154\n",
      " 0.47263402 0.47114444 0.46966448 0.46820945 0.46679437 0.46543187\n",
      " 0.46412909 0.46288854 0.46170789 0.46058109]\n",
      "21 day output [[0.45949954]]\n",
      "22 day input [0.61074611 0.60371393 0.5898764  0.60084059 0.61150225 0.60394077\n",
      " 0.5932791  0.58677622 0.6306328  0.6306328  0.62647402 0.619215\n",
      " 0.60031129 0.58488585 0.5755852  0.56893111 0.57256059 0.59010324\n",
      " 0.58586882 0.55403498 0.5494981  0.5357362  0.54012182 0.54435629\n",
      " 0.53059439 0.54170978 0.52779662 0.51743737 0.53581178 0.5341483\n",
      " 0.54087801 0.53301406 0.51879844 0.52741852 0.53256033 0.53558494\n",
      " 0.55902553 0.55607656 0.56356247 0.55728642 0.55600098 0.57059465\n",
      " 0.60817518 0.62155904 0.60575551 0.58700306 0.60439444 0.61838323\n",
      " 0.58651876 0.58225548 0.57349873 0.56488103 0.55808145 0.55343825\n",
      " 0.55072057 0.54939842 0.54880315 0.54827398 0.5472734  0.54546171\n",
      " 0.54272258 0.53914541 0.53497231 0.53052562 0.52613407 0.5220682\n",
      " 0.51850164 0.51549494 0.51300687 0.51092041 0.50907969 0.50732356\n",
      " 0.50551713 0.50356972 0.50144291 0.4991478  0.4967334  0.49427098\n",
      " 0.49183741 0.48950005 0.48730654 0.48527965 0.48341835 0.48170203\n",
      " 0.4800978  0.47856814 0.47707817 0.47560123 0.47412154 0.47263402\n",
      " 0.47114444 0.46966448 0.46820945 0.46679437 0.46543187 0.46412909\n",
      " 0.46288854 0.46170789 0.46058109 0.45949954]\n",
      "22 day output [[0.45845512]]\n",
      "23 day input [0.60371393 0.5898764  0.60084059 0.61150225 0.60394077 0.5932791\n",
      " 0.58677622 0.6306328  0.6306328  0.62647402 0.619215   0.60031129\n",
      " 0.58488585 0.5755852  0.56893111 0.57256059 0.59010324 0.58586882\n",
      " 0.55403498 0.5494981  0.5357362  0.54012182 0.54435629 0.53059439\n",
      " 0.54170978 0.52779662 0.51743737 0.53581178 0.5341483  0.54087801\n",
      " 0.53301406 0.51879844 0.52741852 0.53256033 0.53558494 0.55902553\n",
      " 0.55607656 0.56356247 0.55728642 0.55600098 0.57059465 0.60817518\n",
      " 0.62155904 0.60575551 0.58700306 0.60439444 0.61838323 0.58651876\n",
      " 0.58225548 0.57349873 0.56488103 0.55808145 0.55343825 0.55072057\n",
      " 0.54939842 0.54880315 0.54827398 0.5472734  0.54546171 0.54272258\n",
      " 0.53914541 0.53497231 0.53052562 0.52613407 0.5220682  0.51850164\n",
      " 0.51549494 0.51300687 0.51092041 0.50907969 0.50732356 0.50551713\n",
      " 0.50356972 0.50144291 0.4991478  0.4967334  0.49427098 0.49183741\n",
      " 0.48950005 0.48730654 0.48527965 0.48341835 0.48170203 0.4800978\n",
      " 0.47856814 0.47707817 0.47560123 0.47412154 0.47263402 0.47114444\n",
      " 0.46966448 0.46820945 0.46679437 0.46543187 0.46412909 0.46288854\n",
      " 0.46170789 0.46058109 0.45949954 0.45845512]\n",
      "23 day output [[0.45743966]]\n",
      "24 day input [0.5898764  0.60084059 0.61150225 0.60394077 0.5932791  0.58677622\n",
      " 0.6306328  0.6306328  0.62647402 0.619215   0.60031129 0.58488585\n",
      " 0.5755852  0.56893111 0.57256059 0.59010324 0.58586882 0.55403498\n",
      " 0.5494981  0.5357362  0.54012182 0.54435629 0.53059439 0.54170978\n",
      " 0.52779662 0.51743737 0.53581178 0.5341483  0.54087801 0.53301406\n",
      " 0.51879844 0.52741852 0.53256033 0.53558494 0.55902553 0.55607656\n",
      " 0.56356247 0.55728642 0.55600098 0.57059465 0.60817518 0.62155904\n",
      " 0.60575551 0.58700306 0.60439444 0.61838323 0.58651876 0.58225548\n",
      " 0.57349873 0.56488103 0.55808145 0.55343825 0.55072057 0.54939842\n",
      " 0.54880315 0.54827398 0.5472734  0.54546171 0.54272258 0.53914541\n",
      " 0.53497231 0.53052562 0.52613407 0.5220682  0.51850164 0.51549494\n",
      " 0.51300687 0.51092041 0.50907969 0.50732356 0.50551713 0.50356972\n",
      " 0.50144291 0.4991478  0.4967334  0.49427098 0.49183741 0.48950005\n",
      " 0.48730654 0.48527965 0.48341835 0.48170203 0.4800978  0.47856814\n",
      " 0.47707817 0.47560123 0.47412154 0.47263402 0.47114444 0.46966448\n",
      " 0.46820945 0.46679437 0.46543187 0.46412909 0.46288854 0.46170789\n",
      " 0.46058109 0.45949954 0.45845512 0.45743966]\n",
      "24 day output [[0.45644748]]\n",
      "25 day input [0.60084059 0.61150225 0.60394077 0.5932791  0.58677622 0.6306328\n",
      " 0.6306328  0.62647402 0.619215   0.60031129 0.58488585 0.5755852\n",
      " 0.56893111 0.57256059 0.59010324 0.58586882 0.55403498 0.5494981\n",
      " 0.5357362  0.54012182 0.54435629 0.53059439 0.54170978 0.52779662\n",
      " 0.51743737 0.53581178 0.5341483  0.54087801 0.53301406 0.51879844\n",
      " 0.52741852 0.53256033 0.53558494 0.55902553 0.55607656 0.56356247\n",
      " 0.55728642 0.55600098 0.57059465 0.60817518 0.62155904 0.60575551\n",
      " 0.58700306 0.60439444 0.61838323 0.58651876 0.58225548 0.57349873\n",
      " 0.56488103 0.55808145 0.55343825 0.55072057 0.54939842 0.54880315\n",
      " 0.54827398 0.5472734  0.54546171 0.54272258 0.53914541 0.53497231\n",
      " 0.53052562 0.52613407 0.5220682  0.51850164 0.51549494 0.51300687\n",
      " 0.51092041 0.50907969 0.50732356 0.50551713 0.50356972 0.50144291\n",
      " 0.4991478  0.4967334  0.49427098 0.49183741 0.48950005 0.48730654\n",
      " 0.48527965 0.48341835 0.48170203 0.4800978  0.47856814 0.47707817\n",
      " 0.47560123 0.47412154 0.47263402 0.47114444 0.46966448 0.46820945\n",
      " 0.46679437 0.46543187 0.46412909 0.46288854 0.46170789 0.46058109\n",
      " 0.45949954 0.45845512 0.45743966 0.45644748]\n",
      "25 day output [[0.4554749]]\n",
      "26 day input [0.61150225 0.60394077 0.5932791  0.58677622 0.6306328  0.6306328\n",
      " 0.62647402 0.619215   0.60031129 0.58488585 0.5755852  0.56893111\n",
      " 0.57256059 0.59010324 0.58586882 0.55403498 0.5494981  0.5357362\n",
      " 0.54012182 0.54435629 0.53059439 0.54170978 0.52779662 0.51743737\n",
      " 0.53581178 0.5341483  0.54087801 0.53301406 0.51879844 0.52741852\n",
      " 0.53256033 0.53558494 0.55902553 0.55607656 0.56356247 0.55728642\n",
      " 0.55600098 0.57059465 0.60817518 0.62155904 0.60575551 0.58700306\n",
      " 0.60439444 0.61838323 0.58651876 0.58225548 0.57349873 0.56488103\n",
      " 0.55808145 0.55343825 0.55072057 0.54939842 0.54880315 0.54827398\n",
      " 0.5472734  0.54546171 0.54272258 0.53914541 0.53497231 0.53052562\n",
      " 0.52613407 0.5220682  0.51850164 0.51549494 0.51300687 0.51092041\n",
      " 0.50907969 0.50732356 0.50551713 0.50356972 0.50144291 0.4991478\n",
      " 0.4967334  0.49427098 0.49183741 0.48950005 0.48730654 0.48527965\n",
      " 0.48341835 0.48170203 0.4800978  0.47856814 0.47707817 0.47560123\n",
      " 0.47412154 0.47263402 0.47114444 0.46966448 0.46820945 0.46679437\n",
      " 0.46543187 0.46412909 0.46288854 0.46170789 0.46058109 0.45949954\n",
      " 0.45845512 0.45743966 0.45644748 0.45547491]\n",
      "26 day output [[0.45452073]]\n",
      "27 day input [0.60394077 0.5932791  0.58677622 0.6306328  0.6306328  0.62647402\n",
      " 0.619215   0.60031129 0.58488585 0.5755852  0.56893111 0.57256059\n",
      " 0.59010324 0.58586882 0.55403498 0.5494981  0.5357362  0.54012182\n",
      " 0.54435629 0.53059439 0.54170978 0.52779662 0.51743737 0.53581178\n",
      " 0.5341483  0.54087801 0.53301406 0.51879844 0.52741852 0.53256033\n",
      " 0.53558494 0.55902553 0.55607656 0.56356247 0.55728642 0.55600098\n",
      " 0.57059465 0.60817518 0.62155904 0.60575551 0.58700306 0.60439444\n",
      " 0.61838323 0.58651876 0.58225548 0.57349873 0.56488103 0.55808145\n",
      " 0.55343825 0.55072057 0.54939842 0.54880315 0.54827398 0.5472734\n",
      " 0.54546171 0.54272258 0.53914541 0.53497231 0.53052562 0.52613407\n",
      " 0.5220682  0.51850164 0.51549494 0.51300687 0.51092041 0.50907969\n",
      " 0.50732356 0.50551713 0.50356972 0.50144291 0.4991478  0.4967334\n",
      " 0.49427098 0.49183741 0.48950005 0.48730654 0.48527965 0.48341835\n",
      " 0.48170203 0.4800978  0.47856814 0.47707817 0.47560123 0.47412154\n",
      " 0.47263402 0.47114444 0.46966448 0.46820945 0.46679437 0.46543187\n",
      " 0.46412909 0.46288854 0.46170789 0.46058109 0.45949954 0.45845512\n",
      " 0.45743966 0.45644748 0.45547491 0.45452073]\n"
     ]
    },
    {
     "name": "stdout",
     "output_type": "stream",
     "text": [
      "27 day output [[0.45358577]]\n",
      "28 day input [0.5932791  0.58677622 0.6306328  0.6306328  0.62647402 0.619215\n",
      " 0.60031129 0.58488585 0.5755852  0.56893111 0.57256059 0.59010324\n",
      " 0.58586882 0.55403498 0.5494981  0.5357362  0.54012182 0.54435629\n",
      " 0.53059439 0.54170978 0.52779662 0.51743737 0.53581178 0.5341483\n",
      " 0.54087801 0.53301406 0.51879844 0.52741852 0.53256033 0.53558494\n",
      " 0.55902553 0.55607656 0.56356247 0.55728642 0.55600098 0.57059465\n",
      " 0.60817518 0.62155904 0.60575551 0.58700306 0.60439444 0.61838323\n",
      " 0.58651876 0.58225548 0.57349873 0.56488103 0.55808145 0.55343825\n",
      " 0.55072057 0.54939842 0.54880315 0.54827398 0.5472734  0.54546171\n",
      " 0.54272258 0.53914541 0.53497231 0.53052562 0.52613407 0.5220682\n",
      " 0.51850164 0.51549494 0.51300687 0.51092041 0.50907969 0.50732356\n",
      " 0.50551713 0.50356972 0.50144291 0.4991478  0.4967334  0.49427098\n",
      " 0.49183741 0.48950005 0.48730654 0.48527965 0.48341835 0.48170203\n",
      " 0.4800978  0.47856814 0.47707817 0.47560123 0.47412154 0.47263402\n",
      " 0.47114444 0.46966448 0.46820945 0.46679437 0.46543187 0.46412909\n",
      " 0.46288854 0.46170789 0.46058109 0.45949954 0.45845512 0.45743966\n",
      " 0.45644748 0.45547491 0.45452073 0.45358577]\n",
      "28 day output [[0.45267186]]\n",
      "29 day input [0.58677622 0.6306328  0.6306328  0.62647402 0.619215   0.60031129\n",
      " 0.58488585 0.5755852  0.56893111 0.57256059 0.59010324 0.58586882\n",
      " 0.55403498 0.5494981  0.5357362  0.54012182 0.54435629 0.53059439\n",
      " 0.54170978 0.52779662 0.51743737 0.53581178 0.5341483  0.54087801\n",
      " 0.53301406 0.51879844 0.52741852 0.53256033 0.53558494 0.55902553\n",
      " 0.55607656 0.56356247 0.55728642 0.55600098 0.57059465 0.60817518\n",
      " 0.62155904 0.60575551 0.58700306 0.60439444 0.61838323 0.58651876\n",
      " 0.58225548 0.57349873 0.56488103 0.55808145 0.55343825 0.55072057\n",
      " 0.54939842 0.54880315 0.54827398 0.5472734  0.54546171 0.54272258\n",
      " 0.53914541 0.53497231 0.53052562 0.52613407 0.5220682  0.51850164\n",
      " 0.51549494 0.51300687 0.51092041 0.50907969 0.50732356 0.50551713\n",
      " 0.50356972 0.50144291 0.4991478  0.4967334  0.49427098 0.49183741\n",
      " 0.48950005 0.48730654 0.48527965 0.48341835 0.48170203 0.4800978\n",
      " 0.47856814 0.47707817 0.47560123 0.47412154 0.47263402 0.47114444\n",
      " 0.46966448 0.46820945 0.46679437 0.46543187 0.46412909 0.46288854\n",
      " 0.46170789 0.46058109 0.45949954 0.45845512 0.45743966 0.45644748\n",
      " 0.45547491 0.45452073 0.45358577 0.45267186]\n",
      "29 day output [[0.4517821]]\n",
      "[[0.49183741211891174], [0.4895000457763672], [0.48730653524398804], [0.4852796494960785], [0.483418345451355], [0.4817020297050476], [0.48009780049324036], [0.4785681366920471], [0.4770781695842743], [0.4756012260913849], [0.4741215407848358], [0.4726340174674988], [0.471144437789917], [0.46966448426246643], [0.468209445476532], [0.46679437160491943], [0.4654318690299988], [0.46412909030914307], [0.46288853883743286], [0.4617078900337219], [0.46058109402656555], [0.4594995379447937], [0.4584551155567169], [0.457439661026001], [0.4564474821090698], [0.4554749131202698], [0.45452073216438293], [0.45358577370643616], [0.4526718556880951], [0.45178210735321045]]\n"
     ]
    }
   ],
   "source": [
    "# Demonstrate prediction for next 10 days\n",
    "\n",
    "from numpy import array\n",
    "\n",
    "lst_output=[]\n",
    "n_steps=100\n",
    "i=0\n",
    "while(i<30):\n",
    "    \n",
    "    if(len(temp_input)>100):\n",
    "        # print (temp_input)\n",
    "        X_input=np.array(temp_input[1:])\n",
    "        print(\"{} day input {}\".format(i,X_input))\n",
    "        X_input = X_input.reshape(1,-1)\n",
    "        X_input = X_input.reshape((1, n_steps, 1))\n",
    "        # Print (X_input)\n",
    "        yhat = model.predict(X_input,verbose=0)\n",
    "        print(\"{} day output {}\".format(i,yhat))\n",
    "        temp_input.extend(yhat[0].tolist())\n",
    "        temp_input = temp_input[1:]\n",
    "        # Print(temp_input)\n",
    "        lst_output.extend(yhat.tolist())\n",
    "        i=i+1\n",
    "    else:\n",
    "        X_input = X_input.reshape((1,n_steps,1))\n",
    "        yhat = model.predict(X_input,verbose=0)\n",
    "        print(yhat[0])\n",
    "        temp_input.extend(yhat[0].tolist())\n",
    "        print(len(temp_input))\n",
    "        lst_output.extend(yhat.tolist())\n",
    "        i=i+1\n",
    "        \n",
    "print(lst_output)"
   ]
  },
  {
   "cell_type": "code",
   "execution_count": 48,
   "id": "f21dbbcb",
   "metadata": {},
   "outputs": [],
   "source": [
    "day_new=np.arange(1,101)\n",
    "day_pred=np.arange(101,131)"
   ]
  },
  {
   "cell_type": "code",
   "execution_count": 49,
   "id": "435e9c64",
   "metadata": {},
   "outputs": [],
   "source": [
    "import matplotlib.pyplot as plt"
   ]
  },
  {
   "cell_type": "code",
   "execution_count": 50,
   "id": "4973ed14",
   "metadata": {},
   "outputs": [
    {
     "data": {
      "text/plain": [
       "2536"
      ]
     },
     "execution_count": 50,
     "metadata": {},
     "output_type": "execute_result"
    }
   ],
   "source": [
    "len(df1)"
   ]
  },
  {
   "cell_type": "code",
   "execution_count": 51,
   "id": "3ebc7012",
   "metadata": {},
   "outputs": [],
   "source": [
    "df3=df1.tolist()\n",
    "df3.extend(lst_output)"
   ]
  },
  {
   "cell_type": "code",
   "execution_count": 52,
   "id": "d415da72",
   "metadata": {},
   "outputs": [
    {
     "data": {
      "text/plain": [
       "[<matplotlib.lines.Line2D at 0x177b2867b80>]"
      ]
     },
     "execution_count": 52,
     "metadata": {},
     "output_type": "execute_result"
    },
    {
     "data": {
      "image/png": "[encoded data removed]",
      "text/plain": [
       "<Figure size 432x288 with 1 Axes>"
      ]
     },
     "metadata": {
      "needs_background": "light"
     },
     "output_type": "display_data"
    }
   ],
   "source": [
    "plt.plot(day_new,ms.inverse_transform(df1[2436:]))\n",
    "plt.plot(day_pred,ms.inverse_transform(lst_output))"
   ]
  },
  {
   "cell_type": "code",
   "execution_count": 56,
   "id": "b8b40900",
   "metadata": {},
   "outputs": [
    {
     "data": {
      "text/plain": [
       "[<matplotlib.lines.Line2D at 0x177b92889d0>]"
      ]
     },
     "execution_count": 56,
     "metadata": {},
     "output_type": "execute_result"
    },
    {
     "data": {
      "image/png": "[encoded data removed]",
      "text/plain": [
       "<Figure size 432x288 with 1 Axes>"
      ]
     },
     "metadata": {
      "needs_background": "light"
     },
     "output_type": "display_data"
    }
   ],
   "source": [
    "df3=df1.tolist()\n",
    "df3.extend(lst_output)\n",
    "plt.plot(df3[1200:])"
   ]
  },
  {
   "cell_type": "code",
   "execution_count": 57,
   "id": "c7d519f4",
   "metadata": {},
   "outputs": [],
   "source": [
    "df3=ms.inverse_transform(df3).tolist()"
   ]
  },
  {
   "cell_type": "code",
   "execution_count": 58,
   "id": "62a1c28a",
   "metadata": {},
   "outputs": [
    {
     "data": {
      "text/plain": [
       "[<matplotlib.lines.Line2D at 0x177b3ceb160>]"
      ]
     },
     "execution_count": 58,
     "metadata": {},
     "output_type": "execute_result"
    },
    {
     "data": {
      "image/png": "[encoded data removed]",
      "text/plain": [
       "<Figure size 432x288 with 1 Axes>"
      ]
     },
     "metadata": {
      "needs_background": "light"
     },
     "output_type": "display_data"
    }
   ],
   "source": [
    "plt.plot(df3)"
   ]
  },
  {
   "cell_type": "code",
   "execution_count": null,
   "id": "04982c60",
   "metadata": {},
   "outputs": [],
   "source": []
  }
 ],
 "metadata": {
  "kernelspec": {
   "display_name": "Python 3 (ipykernel)",
   "language": "python",
   "name": "python3"
  },
  "language_info": {
   "codemirror_mode": {
    "name": "ipython",
    "version": 3
   },
   "file_extension": ".py",
   "mimetype": "text/x-python",
   "name": "python",
   "nbconvert_exporter": "python",
   "pygments_lexer": "ipython3",
   "version": "3.9.12"
  }
 },
 "nbformat": 4,
 "nbformat_minor": 5
}
